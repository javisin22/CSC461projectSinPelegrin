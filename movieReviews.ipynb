{
 "cells": [
  {
   "cell_type": "markdown",
   "metadata": {},
   "source": [
    "# **CSC461: Final Project**\n",
    "## <u>Team Members:</u> *Javier Sin & Nicolás Pelegrín*\n",
    "---"
   ]
  },
  {
   "cell_type": "markdown",
   "metadata": {},
   "source": [
    "## 0. Data import and visualization"
   ]
  },
  {
   "cell_type": "code",
   "execution_count": 23,
   "metadata": {},
   "outputs": [],
   "source": [
    "import numpy as np \n",
    "import pandas as pd \n",
    "import matplotlib.pyplot as plt\n",
    "import seaborn as sns\n",
    "from sklearn.model_selection import GridSearchCV\n",
    "sns.set_style('darkgrid')"
   ]
  },
  {
   "cell_type": "markdown",
   "metadata": {},
   "source": [
    "Dataset including 50k IMDB reviews for sentiment analysis. There's two columns: the first one is the reviews themselves and the second one is the sentiment of the review ('negative' || 'positive')."
   ]
  },
  {
   "cell_type": "code",
   "execution_count": 24,
   "metadata": {},
   "outputs": [
    {
     "data": {
      "text/html": [
       "<div>\n",
       "<style scoped>\n",
       "    .dataframe tbody tr th:only-of-type {\n",
       "        vertical-align: middle;\n",
       "    }\n",
       "\n",
       "    .dataframe tbody tr th {\n",
       "        vertical-align: top;\n",
       "    }\n",
       "\n",
       "    .dataframe thead th {\n",
       "        text-align: right;\n",
       "    }\n",
       "</style>\n",
       "<table border=\"1\" class=\"dataframe\">\n",
       "  <thead>\n",
       "    <tr style=\"text-align: right;\">\n",
       "      <th></th>\n",
       "      <th>review</th>\n",
       "      <th>sentiment</th>\n",
       "    </tr>\n",
       "  </thead>\n",
       "  <tbody>\n",
       "    <tr>\n",
       "      <th>0</th>\n",
       "      <td>One of the other reviewers has mentioned that ...</td>\n",
       "      <td>positive</td>\n",
       "    </tr>\n",
       "    <tr>\n",
       "      <th>1</th>\n",
       "      <td>A wonderful little production. &lt;br /&gt;&lt;br /&gt;The...</td>\n",
       "      <td>positive</td>\n",
       "    </tr>\n",
       "    <tr>\n",
       "      <th>2</th>\n",
       "      <td>I thought this was a wonderful way to spend ti...</td>\n",
       "      <td>positive</td>\n",
       "    </tr>\n",
       "    <tr>\n",
       "      <th>3</th>\n",
       "      <td>Basically there's a family where a little boy ...</td>\n",
       "      <td>negative</td>\n",
       "    </tr>\n",
       "    <tr>\n",
       "      <th>4</th>\n",
       "      <td>Petter Mattei's \"Love in the Time of Money\" is...</td>\n",
       "      <td>positive</td>\n",
       "    </tr>\n",
       "    <tr>\n",
       "      <th>...</th>\n",
       "      <td>...</td>\n",
       "      <td>...</td>\n",
       "    </tr>\n",
       "    <tr>\n",
       "      <th>49995</th>\n",
       "      <td>I thought this movie did a down right good job...</td>\n",
       "      <td>positive</td>\n",
       "    </tr>\n",
       "    <tr>\n",
       "      <th>49996</th>\n",
       "      <td>Bad plot, bad dialogue, bad acting, idiotic di...</td>\n",
       "      <td>negative</td>\n",
       "    </tr>\n",
       "    <tr>\n",
       "      <th>49997</th>\n",
       "      <td>I am a Catholic taught in parochial elementary...</td>\n",
       "      <td>negative</td>\n",
       "    </tr>\n",
       "    <tr>\n",
       "      <th>49998</th>\n",
       "      <td>I'm going to have to disagree with the previou...</td>\n",
       "      <td>negative</td>\n",
       "    </tr>\n",
       "    <tr>\n",
       "      <th>49999</th>\n",
       "      <td>No one expects the Star Trek movies to be high...</td>\n",
       "      <td>negative</td>\n",
       "    </tr>\n",
       "  </tbody>\n",
       "</table>\n",
       "<p>50000 rows × 2 columns</p>\n",
       "</div>"
      ],
      "text/plain": [
       "                                                  review sentiment\n",
       "0      One of the other reviewers has mentioned that ...  positive\n",
       "1      A wonderful little production. <br /><br />The...  positive\n",
       "2      I thought this was a wonderful way to spend ti...  positive\n",
       "3      Basically there's a family where a little boy ...  negative\n",
       "4      Petter Mattei's \"Love in the Time of Money\" is...  positive\n",
       "...                                                  ...       ...\n",
       "49995  I thought this movie did a down right good job...  positive\n",
       "49996  Bad plot, bad dialogue, bad acting, idiotic di...  negative\n",
       "49997  I am a Catholic taught in parochial elementary...  negative\n",
       "49998  I'm going to have to disagree with the previou...  negative\n",
       "49999  No one expects the Star Trek movies to be high...  negative\n",
       "\n",
       "[50000 rows x 2 columns]"
      ]
     },
     "execution_count": 24,
     "metadata": {},
     "output_type": "execute_result"
    }
   ],
   "source": [
    "df_review = pd.read_csv(\"IMDB Dataset.csv\")\n",
    "df_review"
   ]
  },
  {
   "cell_type": "markdown",
   "metadata": {},
   "source": [
    "## 1. Metrics"
   ]
  },
  {
   "cell_type": "markdown",
   "metadata": {},
   "source": [
    "Now we'll cite the [metrics](https://scikit-learn.org/stable/modules/model_evaluation.html#classification-metrics) we'll be using during the project:\n",
    "* [Accuracy](https://scikit-learn.org/stable/modules/generated/sklearn.metrics.accuracy_score.html#sklearn.metrics.accuracy_score)\n",
    "* [F1 Score](https://scikit-learn.org/stable/modules/generated/sklearn.metrics.f1_score.html#sklearn.metrics.f1_score)\n"
   ]
  },
  {
   "cell_type": "markdown",
   "metadata": {},
   "source": [
    "* **Accuracy**: should be used when the classes are relatively balanced. If the dataset is imbalanced, accuracy can be misleading because the model may simply predict the majority class more often.\n",
    "* **F1 score**: is the weighted average of precision and recall. It takes both false positives and false negatives into account. It is a better measure than accuracy for imbalanced datasets (not the case).\n",
    "* **ROC-AUC**: this is a good metric for binary classification problems such us this one. It plots the true positive rate against the false positive rate. It is a good metric to use when the classes are imbalanced.\n",
    "\n",
    "In this case, as we're going to use balanced datasets, we'll be using <u>accuracy</u> as our main metric. We'll also be using the <u>F1 score</u> to have a better understanding of the model's performance."
   ]
  },
  {
   "cell_type": "markdown",
   "metadata": {},
   "source": [
    "We're also going to define a **Panda's Dataframe** so that we can store the results obtained for each model in order to compare them at the end of this notebook."
   ]
  },
  {
   "cell_type": "code",
   "execution_count": 25,
   "metadata": {},
   "outputs": [],
   "source": [
    "from sklearn.metrics import accuracy_score, precision_score, recall_score, f1_score, precision_recall_curve, roc_auc_score, confusion_matrix\n",
    "\n",
    "df = pd.DataFrame() # Global variable with the table storing the results of the models\n",
    "\n",
    "def add_to_df(y_train, y_train_prediction, y_test, y_test_prediction, method, comments):\n",
    "    # Modifying a global variable inside a function must be done explicitly\n",
    "    global df\n",
    "\n",
    "    df_aux = pd.DataFrame(\n",
    "        {\n",
    "          \"Method\"    : [method],\n",
    "          # \"R2_train\"  : [r2_score(y_train, y_train_prediction)],\n",
    "          # \"R2_test\"   : [r2_score(y_test, y_test_prediction)],\n",
    "          \"accuracy_train\" : [accuracy_score(y_train, y_train_prediction)],\n",
    "          \"accuracy_test\" : [accuracy_score(y_test, y_test_prediction)],\n",
    "          # \"precision_train\" : [precision_score(y_train, y_train_prediction)],\n",
    "          # \"precision_test\" : [precision_score(y_test, y_test_prediction)],\n",
    "          # \"recall_train\" : [recall_score(y_train, y_train_prediction)],\n",
    "          # \"recall_test\" : [recall_score(y_test, y_test_prediction)],\n",
    "          \"f1_train\" : [f1_score(y_train, y_train_prediction, pos_label='positive')],\n",
    "          \"f1_test\" : [f1_score(y_test, y_test_prediction, pos_label='positive')],\n",
    "          # \"precision_recall_curve_train\" : [precision_recall_curve(y_train, y_train_prediction)],\n",
    "          # \"precision_recall_curve_test\" : [precision_recall_curve(y_test, y_test_prediction)],\n",
    "          # \"roc_auc_train\" : [roc_auc_score(y_train, y_train_prediction)],\n",
    "          # \"roc_auc_test\" : [roc_auc_score(y_test, y_test_prediction)],\n",
    "          # \"confusion_matrix_train\" : [confusion_matrix(y_train, y_train_prediction)],\n",
    "          # \"confusion_matrix_test\" : [confusion_matrix(y_test, y_test_prediction)],\n",
    "          # \"RMSE_train\": [mean_squared_error(y_train, y_train_prediction, squared = False)],\n",
    "          # \"RMSE_test\" : [mean_squared_error(y_test, y_test_prediction, squared = False)],\n",
    "          \"Comments\": [comments]\n",
    "        }\n",
    "    )\n",
    "\n",
    "    df = pd.concat([df, df_aux], ignore_index=True)\n",
    "    return df_aux"
   ]
  },
  {
   "cell_type": "markdown",
   "metadata": {},
   "source": [
    "---\n",
    "## 2. Preparing the data"
   ]
  },
  {
   "cell_type": "markdown",
   "metadata": {},
   "source": [
    "Now we'll prepare the data for the models. First we'll split the data into training and testing sets. Then we'll use the `TfidfVectorizer` to convert the text data into a matrix of TF-IDF features, which will be used as input for the models."
   ]
  },
  {
   "cell_type": "code",
   "execution_count": 26,
   "metadata": {},
   "outputs": [
    {
     "data": {
      "text/plain": [
       "sentiment\n",
       "negative    20039\n",
       "positive    19961\n",
       "Name: count, dtype: int64"
      ]
     },
     "execution_count": 26,
     "metadata": {},
     "output_type": "execute_result"
    }
   ],
   "source": [
    "from sklearn.model_selection import train_test_split\n",
    "\n",
    "X = df_review['review']\n",
    "y = df_review['sentiment']\n",
    "\n",
    "X_train, X_test, y_train, y_test = train_test_split(X, y, test_size=0.2, random_state=42)\n",
    "\n",
    "y_train.value_counts() # Checking the balance of the classes"
   ]
  },
  {
   "cell_type": "code",
   "execution_count": 27,
   "metadata": {},
   "outputs": [],
   "source": [
    "from sklearn.feature_extraction.text import TfidfVectorizer\n",
    "\n",
    "vectorizer = TfidfVectorizer(stop_words='english')\n",
    "X_train_vect = vectorizer.fit_transform(X_train)\n",
    "X_test_vect = vectorizer.transform(X_test)"
   ]
  },
  {
   "cell_type": "code",
   "execution_count": 28,
   "metadata": {},
   "outputs": [
    {
     "name": "stdout",
     "output_type": "stream",
     "text": [
      "(40000,)\n",
      "(40000, 92692)\n"
     ]
    }
   ],
   "source": [
    "print(X_train.shape)\n",
    "print(X_train_vect.shape)"
   ]
  },
  {
   "cell_type": "markdown",
   "metadata": {},
   "source": [
    "## 3. Models to be used"
   ]
  },
  {
   "cell_type": "markdown",
   "metadata": {},
   "source": [
    "Our goal is to create and tune all the models in order to compare which one is the best for this particular dataset. Instead of just creating the default models and using the only one with best accuracy, we're going to tune them all and compare the results."
   ]
  },
  {
   "cell_type": "markdown",
   "metadata": {},
   "source": [
    "### 3.1: Decision Tree"
   ]
  },
  {
   "cell_type": "markdown",
   "metadata": {},
   "source": [
    "The first model we're going to test is the [Decision Tree](https://scikit-learn.org/stable/modules/generated/sklearn.tree.DecisionTreeClassifier.html#sklearn.tree.DecisionTreeClassifier)."
   ]
  },
  {
   "cell_type": "markdown",
   "metadata": {},
   "source": [
    "#### 3.1.1: Model creation"
   ]
  },
  {
   "cell_type": "code",
   "execution_count": 29,
   "metadata": {},
   "outputs": [],
   "source": [
    "# Import the Decision Tree Classifier\n",
    "from sklearn.tree import DecisionTreeClassifier"
   ]
  },
  {
   "cell_type": "code",
   "execution_count": 30,
   "metadata": {},
   "outputs": [],
   "source": [
    "# Create the Decision Tree Classifier\n",
    "dt = DecisionTreeClassifier(random_state=42)\n",
    "\n",
    "# Train the model\n",
    "dt.fit(X_train_vect, y_train)\n",
    "\n",
    "# Predict the training set\n",
    "y_train_prediction = dt.predict(X_train_vect)\n",
    "\n",
    "# Predict the test set\n",
    "y_test_prediction = dt.predict(X_test_vect)\n"
   ]
  },
  {
   "cell_type": "code",
   "execution_count": 31,
   "metadata": {},
   "outputs": [
    {
     "data": {
      "text/html": [
       "<div>\n",
       "<style scoped>\n",
       "    .dataframe tbody tr th:only-of-type {\n",
       "        vertical-align: middle;\n",
       "    }\n",
       "\n",
       "    .dataframe tbody tr th {\n",
       "        vertical-align: top;\n",
       "    }\n",
       "\n",
       "    .dataframe thead th {\n",
       "        text-align: right;\n",
       "    }\n",
       "</style>\n",
       "<table border=\"1\" class=\"dataframe\">\n",
       "  <thead>\n",
       "    <tr style=\"text-align: right;\">\n",
       "      <th></th>\n",
       "      <th>Method</th>\n",
       "      <th>accuracy_train</th>\n",
       "      <th>accuracy_test</th>\n",
       "      <th>f1_train</th>\n",
       "      <th>f1_test</th>\n",
       "      <th>Comments</th>\n",
       "    </tr>\n",
       "  </thead>\n",
       "  <tbody>\n",
       "    <tr>\n",
       "      <th>0</th>\n",
       "      <td>Decision Tree</td>\n",
       "      <td>1.0</td>\n",
       "      <td>0.7265</td>\n",
       "      <td>1.0</td>\n",
       "      <td>0.726363</td>\n",
       "      <td>Default parameters</td>\n",
       "    </tr>\n",
       "  </tbody>\n",
       "</table>\n",
       "</div>"
      ],
      "text/plain": [
       "          Method  accuracy_train  accuracy_test  f1_train   f1_test  \\\n",
       "0  Decision Tree             1.0         0.7265       1.0  0.726363   \n",
       "\n",
       "             Comments  \n",
       "0  Default parameters  "
      ]
     },
     "execution_count": 31,
     "metadata": {},
     "output_type": "execute_result"
    }
   ],
   "source": [
    "# Add the results to the df\n",
    "add_to_df(y_train, y_train_prediction, y_test, y_test_prediction, \"Decision Tree\", \"Default parameters\")"
   ]
  },
  {
   "cell_type": "markdown",
   "metadata": {},
   "source": [
    "As you can see, the current model with the default parameters suffers from `overfitting`. This can be deduced from the accuracy and f1 scores of 1.0 for the train sets. This means that the model is memorizing the training data patters and not generalizing well to the test data. We can solve this by tuning the hyperparameters of the model, and if this wouldn't be enough, we could also use some regularization techniques like `pruning`."
   ]
  },
  {
   "cell_type": "markdown",
   "metadata": {},
   "source": [
    "#### 3.1.2: Model tuning"
   ]
  },
  {
   "cell_type": "markdown",
   "metadata": {},
   "source": [
    "Now we'll tune the model in order to avoid overfitting so that we can obtain better results."
   ]
  },
  {
   "cell_type": "code",
   "execution_count": null,
   "metadata": {},
   "outputs": [],
   "source": [
    "# Define the parameter grid\n",
    "param_grid = {\n",
    "    'max_depth': [None, 10, 20, 30],\n",
    "    'min_samples_split': [2, 10, 20],\n",
    "    'min_samples_leaf': [1, 5, 10]\n",
    "}\n",
    "\n",
    "# Create the Decision Tree Classifier\n",
    "dt = DecisionTreeClassifier(random_state=42)\n",
    "\n",
    "# Use GridSearchCV to find the best parameters\n",
    "grid_search = GridSearchCV(dt, param_grid, cv=5, scoring='accuracy')\n",
    "grid_search.fit(X_train_vect, y_train)\n",
    "\n",
    "# Get the best estimator\n",
    "best_dt = grid_search.best_estimator_\n",
    "\n",
    "# Train the model with the best parameters\n",
    "best_dt.fit(X_train_vect, y_train)\n",
    "\n",
    "# Predict the training set\n",
    "y_train_prediction = best_dt.predict(X_train_vect)\n",
    "\n",
    "# Predict the test set\n",
    "y_test_prediction = best_dt.predict(X_test_vect)\n",
    "\n",
    "# Evaluate the performance\n",
    "train_accuracy = accuracy_score(y_train, y_train_prediction)\n",
    "test_accuracy = accuracy_score(y_test, y_test_prediction)\n",
    "\n",
    "print(f\"Train Accuracy: {train_accuracy}\")\n",
    "print(f\"Test Accuracy: {test_accuracy}\")"
   ]
  },
  {
   "cell_type": "code",
   "execution_count": 11,
   "metadata": {},
   "outputs": [
    {
     "name": "stdout",
     "output_type": "stream",
     "text": [
      "Best parameters found by GridSearchCV:\n",
      "{'max_depth': 20, 'min_samples_leaf': 10, 'min_samples_split': 2}\n"
     ]
    }
   ],
   "source": [
    "# Print the best configuration of parameters obtained by GridSearchCV\n",
    "print(\"Best parameters found by GridSearchCV:\")\n",
    "print(grid_search.best_params_)"
   ]
  },
  {
   "cell_type": "markdown",
   "metadata": {},
   "source": [
    "Now I'll define a range of hyperparameters, for example for `max_depth` in order to see the different results in a plot to view how the model behaves and determine if it suffers from overfitting."
   ]
  },
  {
   "cell_type": "code",
   "execution_count": 12,
   "metadata": {},
   "outputs": [
    {
     "data": {
      "image/png": "[encoded data removed]",
      "text/plain": [
       "<Figure size 1000x600 with 1 Axes>"
      ]
     },
     "metadata": {},
     "output_type": "display_data"
    }
   ],
   "source": [
    "max_depths = range(1, 21)\n",
    "\n",
    "train_accuracies = []\n",
    "test_accuracies = []\n",
    "\n",
    "for max_depth in max_depths:\n",
    "    dt = DecisionTreeClassifier(max_depth=max_depth, min_samples_leaf=10, min_samples_split=2, random_state=42)\n",
    "    dt.fit(X_train_vect, y_train)\n",
    "    y_train_prediction = dt.predict(X_train_vect)\n",
    "    y_test_prediction = dt.predict(X_test_vect)\n",
    "    train_accuracy = accuracy_score(y_train, y_train_prediction)\n",
    "    test_accuracy = accuracy_score(y_test, y_test_prediction)\n",
    "    train_accuracies.append(train_accuracy)\n",
    "    test_accuracies.append(test_accuracy)\n",
    "\n",
    "plt.figure(figsize=(10, 6))\n",
    "plt.plot(max_depths, train_accuracies, marker='o', label='Train')\n",
    "plt.plot(max_depths, test_accuracies, marker='o', label='Test')\n",
    "plt.xlabel('Max Depth')\n",
    "plt.ylabel('Accuracy')\n",
    "plt.title('Accuracy vs Max Depth')\n",
    "plt.legend()\n",
    "plt.show()"
   ]
  },
  {
   "cell_type": "markdown",
   "metadata": {},
   "source": [
    "We have decided to cap the `max_depth` at 20 as the improvement is minimal after that point. Here's a summary of a test we did increasing the `max_depth` up to 30:\n",
    "\n",
    "Max Depth: 18 - Train Acc: 0.79375 - Test Acc: 0.7437<br>\n",
    "Max Depth: 19 - Train Acc: 0.798025 - Test Acc: 0.7442<br>\n",
    "Max Depth: 20 - Train Acc: 0.801775 - Test Acc: 0.7434<br>\n",
    "Max Depth: 21 - Train Acc: 0.803725 - Test Acc: 0.7424<br>\n",
    "Max Depth: 22 - Train Acc: 0.80605 - Test Acc: 0.74<br>\n",
    "Max Depth: 23 - Train Acc: 0.80945 - Test Acc: 0.7419<br>\n",
    "Max Depth: 24 - Train Acc: 0.8131 - Test Acc: 0.7436<br>\n",
    "Max Depth: 25 - Train Acc: 0.8159 - Test Acc: 0.7441<br>\n",
    "Max Depth: 26 - Train Acc: 0.819375 - Test Acc: 0.7446<br>\n",
    "Max Depth: 27 - Train Acc: 0.82075 - Test Acc: 0.7438<br>\n",
    "Max Depth: 28 - Train Acc: 0.82405 - Test Acc: 0.7429<br>\n",
    "Max Depth: 29 - Train Acc: 0.826275 - Test Acc: 0.7436<br>\n",
    "Max Depth: 30 - Train Acc: 0.828425 - Test Acc: 0.7454<br>\n",
    "\n",
    "As you can see, the model just improves in the train set for 0.02 in terms of accuracy, and the test set remains almost the same. Due to this along with the computation time required when increasing the `max_depth`, we decided to cap it at 20. "
   ]
  },
  {
   "cell_type": "code",
   "execution_count": 13,
   "metadata": {},
   "outputs": [
    {
     "data": {
      "text/html": [
       "<div>\n",
       "<style scoped>\n",
       "    .dataframe tbody tr th:only-of-type {\n",
       "        vertical-align: middle;\n",
       "    }\n",
       "\n",
       "    .dataframe tbody tr th {\n",
       "        vertical-align: top;\n",
       "    }\n",
       "\n",
       "    .dataframe thead th {\n",
       "        text-align: right;\n",
       "    }\n",
       "</style>\n",
       "<table border=\"1\" class=\"dataframe\">\n",
       "  <thead>\n",
       "    <tr style=\"text-align: right;\">\n",
       "      <th></th>\n",
       "      <th>Method</th>\n",
       "      <th>accuracy_train</th>\n",
       "      <th>accuracy_test</th>\n",
       "      <th>f1_train</th>\n",
       "      <th>f1_test</th>\n",
       "      <th>Comments</th>\n",
       "    </tr>\n",
       "  </thead>\n",
       "  <tbody>\n",
       "    <tr>\n",
       "      <th>0</th>\n",
       "      <td>Decision Tree</td>\n",
       "      <td>0.801775</td>\n",
       "      <td>0.7435</td>\n",
       "      <td>0.813457</td>\n",
       "      <td>0.759449</td>\n",
       "      <td>Best parameters found by GridSearchCV</td>\n",
       "    </tr>\n",
       "  </tbody>\n",
       "</table>\n",
       "</div>"
      ],
      "text/plain": [
       "          Method  accuracy_train  accuracy_test  f1_train   f1_test  \\\n",
       "0  Decision Tree        0.801775         0.7435  0.813457  0.759449   \n",
       "\n",
       "                                Comments  \n",
       "0  Best parameters found by GridSearchCV  "
      ]
     },
     "execution_count": 13,
     "metadata": {},
     "output_type": "execute_result"
    }
   ],
   "source": [
    "best_dt_model = DecisionTreeClassifier(max_depth=20, min_samples_leaf=10, min_samples_split=2, random_state=42)\n",
    "best_dt_model.fit(X_train_vect, y_train)\n",
    "\n",
    "y_train_prediction = best_dt_model.predict(X_train_vect)\n",
    "y_test_prediction = best_dt_model.predict(X_test_vect)\n",
    "\n",
    "add_to_df(y_train, y_train_prediction, y_test, y_test_prediction, \"Decision Tree\", \"Best parameters found by GridSearchCV\")"
   ]
  },
  {
   "cell_type": "markdown",
   "metadata": {},
   "source": [
    "Regarding at the results, this time we see that the **model is not overfitting anymore**, as the accuracy and f1 scores are quite similar for the train and test sets. This means that the model is generalizing well to the test data."
   ]
  },
  {
   "cell_type": "markdown",
   "metadata": {},
   "source": [
    "### 3.2: Naive Bayes"
   ]
  },
  {
   "cell_type": "markdown",
   "metadata": {},
   "source": [
    "The second model we're going to test is the [Naive Bayes](https://scikit-learn.org/stable/modules/generated/sklearn.naive_bayes.MultinomialNB.html#sklearn.naive_bayes.MultinomialNB).\n",
    "\n",
    "Note that even though the classification is a binary one, we're using the `MultinomialNB` class because it's the one that works best with the `TfidfVectorizer` we're using."
   ]
  },
  {
   "cell_type": "markdown",
   "metadata": {},
   "source": [
    "#### 3.2.1: Model creation"
   ]
  },
  {
   "cell_type": "code",
   "execution_count": 17,
   "metadata": {},
   "outputs": [],
   "source": [
    "# Import the Naive Bayes Classifier\n",
    "from sklearn.naive_bayes import MultinomialNB"
   ]
  },
  {
   "cell_type": "code",
   "execution_count": 18,
   "metadata": {},
   "outputs": [
    {
     "data": {
      "text/html": [
       "<div>\n",
       "<style scoped>\n",
       "    .dataframe tbody tr th:only-of-type {\n",
       "        vertical-align: middle;\n",
       "    }\n",
       "\n",
       "    .dataframe tbody tr th {\n",
       "        vertical-align: top;\n",
       "    }\n",
       "\n",
       "    .dataframe thead th {\n",
       "        text-align: right;\n",
       "    }\n",
       "</style>\n",
       "<table border=\"1\" class=\"dataframe\">\n",
       "  <thead>\n",
       "    <tr style=\"text-align: right;\">\n",
       "      <th></th>\n",
       "      <th>Method</th>\n",
       "      <th>accuracy_train</th>\n",
       "      <th>accuracy_test</th>\n",
       "      <th>f1_train</th>\n",
       "      <th>f1_test</th>\n",
       "      <th>Comments</th>\n",
       "    </tr>\n",
       "  </thead>\n",
       "  <tbody>\n",
       "    <tr>\n",
       "      <th>0</th>\n",
       "      <td>Naive Bayes</td>\n",
       "      <td>0.9064</td>\n",
       "      <td>0.8652</td>\n",
       "      <td>0.904975</td>\n",
       "      <td>0.864604</td>\n",
       "      <td>Default parameters</td>\n",
       "    </tr>\n",
       "  </tbody>\n",
       "</table>\n",
       "</div>"
      ],
      "text/plain": [
       "        Method  accuracy_train  accuracy_test  f1_train   f1_test  \\\n",
       "0  Naive Bayes          0.9064         0.8652  0.904975  0.864604   \n",
       "\n",
       "             Comments  \n",
       "0  Default parameters  "
      ]
     },
     "execution_count": 18,
     "metadata": {},
     "output_type": "execute_result"
    }
   ],
   "source": [
    "# Create the Naive Bayes Classifier\n",
    "nb = MultinomialNB()\n",
    "\n",
    "# Train the model\n",
    "nb.fit(X_train_vect, y_train)\n",
    "\n",
    "# Predict the training and test sets\n",
    "y_train_prediction = nb.predict(X_train_vect)\n",
    "y_test_prediction = nb.predict(X_test_vect)\n",
    "\n",
    "# Add the results to the df\n",
    "add_to_df(y_train, y_train_prediction, y_test, y_test_prediction, \"Naive Bayes\", \"Default parameters\")"
   ]
  },
  {
   "cell_type": "markdown",
   "metadata": {},
   "source": [
    "#### 3.2.2: Model tuning"
   ]
  },
  {
   "cell_type": "code",
   "execution_count": 16,
   "metadata": {},
   "outputs": [
    {
     "name": "stdout",
     "output_type": "stream",
     "text": [
      "Train Accuracy: 0.916975\n",
      "Test Accuracy: 0.864\n"
     ]
    }
   ],
   "source": [
    "# Find the best alpha using GridSearchCV\n",
    "param_grid = {\n",
    "    'alpha': np.linspace(0.1, 1, 20)\n",
    "}\n",
    "\n",
    "grid_search = GridSearchCV(nb, param_grid, cv=5, scoring='accuracy')\n",
    "grid_search.fit(X_train_vect, y_train)\n",
    "\n",
    "# Get the best estimator\n",
    "best_nb = grid_search.best_estimator_\n",
    "\n",
    "# Train the model with the best parameters\n",
    "best_nb.fit(X_train_vect, y_train)\n",
    "\n",
    "# Predict the training and test sets\n",
    "y_train_prediction = best_nb.predict(X_train_vect)\n",
    "y_test_prediction = best_nb.predict(X_test_vect)\n",
    "\n",
    "# Evaluate the performance\n",
    "train_accuracy = accuracy_score(y_train, y_train_prediction)\n",
    "test_accuracy = accuracy_score(y_test, y_test_prediction)\n",
    "\n",
    "print(f\"Train Accuracy: {train_accuracy}\")\n",
    "print(f\"Test Accuracy: {test_accuracy}\")\n"
   ]
  },
  {
   "cell_type": "code",
   "execution_count": 17,
   "metadata": {},
   "outputs": [
    {
     "name": "stdout",
     "output_type": "stream",
     "text": [
      "Best parameters found by GridSearchCV:\n",
      "{'alpha': np.float64(0.4789473684210527)}\n"
     ]
    }
   ],
   "source": [
    "# Print the best configuration of parameters obtained by GridSearchCV\n",
    "print(\"Best parameters found by GridSearchCV:\")\n",
    "print(grid_search.best_params_)"
   ]
  },
  {
   "cell_type": "code",
   "execution_count": 18,
   "metadata": {},
   "outputs": [
    {
     "data": {
      "text/html": [
       "<div>\n",
       "<style scoped>\n",
       "    .dataframe tbody tr th:only-of-type {\n",
       "        vertical-align: middle;\n",
       "    }\n",
       "\n",
       "    .dataframe tbody tr th {\n",
       "        vertical-align: top;\n",
       "    }\n",
       "\n",
       "    .dataframe thead th {\n",
       "        text-align: right;\n",
       "    }\n",
       "</style>\n",
       "<table border=\"1\" class=\"dataframe\">\n",
       "  <thead>\n",
       "    <tr style=\"text-align: right;\">\n",
       "      <th></th>\n",
       "      <th>Method</th>\n",
       "      <th>accuracy_train</th>\n",
       "      <th>accuracy_test</th>\n",
       "      <th>f1_train</th>\n",
       "      <th>f1_test</th>\n",
       "      <th>Comments</th>\n",
       "    </tr>\n",
       "  </thead>\n",
       "  <tbody>\n",
       "    <tr>\n",
       "      <th>0</th>\n",
       "      <td>Naive Bayes</td>\n",
       "      <td>0.916975</td>\n",
       "      <td>0.864</td>\n",
       "      <td>0.915909</td>\n",
       "      <td>0.863891</td>\n",
       "      <td>Best parameters found by GridSearchCV</td>\n",
       "    </tr>\n",
       "  </tbody>\n",
       "</table>\n",
       "</div>"
      ],
      "text/plain": [
       "        Method  accuracy_train  accuracy_test  f1_train   f1_test  \\\n",
       "0  Naive Bayes        0.916975          0.864  0.915909  0.863891   \n",
       "\n",
       "                                Comments  \n",
       "0  Best parameters found by GridSearchCV  "
      ]
     },
     "execution_count": 18,
     "metadata": {},
     "output_type": "execute_result"
    }
   ],
   "source": [
    "# Add the results to the df\n",
    "add_to_df(y_train, y_train_prediction, y_test, y_test_prediction, \"Naive Bayes\", \"Best parameters found by GridSearchCV\")"
   ]
  },
  {
   "cell_type": "code",
   "execution_count": 19,
   "metadata": {},
   "outputs": [
    {
     "data": {
      "image/png": "[encoded data removed]",
      "text/plain": [
       "<Figure size 1000x600 with 1 Axes>"
      ]
     },
     "metadata": {},
     "output_type": "display_data"
    }
   ],
   "source": [
    "# Plot comparing the evolution of the accuracy for increasing values of alpha\n",
    "alphas = np.linspace(0.01, 1, 20)\n",
    "\n",
    "train_accuracies = []\n",
    "test_accuracies = []\n",
    "\n",
    "for alpha in alphas:\n",
    "    nb = MultinomialNB(alpha=alpha)\n",
    "    nb.fit(X_train_vect, y_train)\n",
    "    y_train_prediction = nb.predict(X_train_vect)\n",
    "    y_test_prediction = nb.predict(X_test_vect)\n",
    "    train_accuracy = accuracy_score(y_train, y_train_prediction)\n",
    "    test_accuracy = accuracy_score(y_test, y_test_prediction)\n",
    "    train_accuracies.append(train_accuracy)\n",
    "    test_accuracies.append(test_accuracy)\n",
    "\n",
    "plt.figure(figsize=(10, 6))\n",
    "plt.plot(alphas, train_accuracies, marker='o', label='Train')\n",
    "plt.plot(alphas, test_accuracies, marker='o', label='Test')\n",
    "plt.xlabel('Alpha')\n",
    "plt.ylabel('Accuracy')\n",
    "plt.title('Accuracy vs Alpha')\n",
    "plt.legend()\n",
    "plt.show()"
   ]
  },
  {
   "cell_type": "markdown",
   "metadata": {},
   "source": [
    "In the above plot, we can see that the model's test accuracy doesn't improve drastically after `alpha = 0.1`. However, the best alpha value would be around `0.45` as the GridSearchCV suggests. This can be justified by the fact that in that point, the train accuracy is still high but doesn't overfit the data. Actually, alphas starting at 0.25 would be already good, but the one chosen is the one who gives the best results in the test set. This way, the model will generalize better to unseen data."
   ]
  },
  {
   "cell_type": "markdown",
   "metadata": {},
   "source": [
    "### 3.3: Logistic Regression"
   ]
  },
  {
   "cell_type": "markdown",
   "metadata": {},
   "source": [
    "The third model we're going to test is the [Logistic Regression](https://scikit-learn.org/stable/modules/generated/sklearn.linear_model.LogisticRegression.html#sklearn.linear_model.LogisticRegression)."
   ]
  },
  {
   "cell_type": "markdown",
   "metadata": {},
   "source": [
    "#### 3.3.1: Model creation"
   ]
  },
  {
   "cell_type": "code",
   "execution_count": 19,
   "metadata": {},
   "outputs": [],
   "source": [
    "# Import the Logistic Regression Classifier\n",
    "from sklearn.linear_model import LogisticRegression"
   ]
  },
  {
   "cell_type": "code",
   "execution_count": 20,
   "metadata": {},
   "outputs": [
    {
     "data": {
      "text/html": [
       "<div>\n",
       "<style scoped>\n",
       "    .dataframe tbody tr th:only-of-type {\n",
       "        vertical-align: middle;\n",
       "    }\n",
       "\n",
       "    .dataframe tbody tr th {\n",
       "        vertical-align: top;\n",
       "    }\n",
       "\n",
       "    .dataframe thead th {\n",
       "        text-align: right;\n",
       "    }\n",
       "</style>\n",
       "<table border=\"1\" class=\"dataframe\">\n",
       "  <thead>\n",
       "    <tr style=\"text-align: right;\">\n",
       "      <th></th>\n",
       "      <th>Method</th>\n",
       "      <th>accuracy_train</th>\n",
       "      <th>accuracy_test</th>\n",
       "      <th>f1_train</th>\n",
       "      <th>f1_test</th>\n",
       "      <th>Comments</th>\n",
       "    </tr>\n",
       "  </thead>\n",
       "  <tbody>\n",
       "    <tr>\n",
       "      <th>0</th>\n",
       "      <td>Logistic Regression</td>\n",
       "      <td>0.933475</td>\n",
       "      <td>0.8942</td>\n",
       "      <td>0.933867</td>\n",
       "      <td>0.89668</td>\n",
       "      <td>Default parameters</td>\n",
       "    </tr>\n",
       "  </tbody>\n",
       "</table>\n",
       "</div>"
      ],
      "text/plain": [
       "                Method  accuracy_train  accuracy_test  f1_train  f1_test  \\\n",
       "0  Logistic Regression        0.933475         0.8942  0.933867  0.89668   \n",
       "\n",
       "             Comments  \n",
       "0  Default parameters  "
      ]
     },
     "execution_count": 20,
     "metadata": {},
     "output_type": "execute_result"
    }
   ],
   "source": [
    "# Create the Logistic Regression Classifier\n",
    "lr = LogisticRegression(max_iter=1000)\n",
    "\n",
    "# Train the model\n",
    "lr.fit(X_train_vect, y_train)\n",
    "\n",
    "# Predict the training and test sets\n",
    "y_train_prediction = lr.predict(X_train_vect)\n",
    "y_test_prediction = lr.predict(X_test_vect)\n",
    "\n",
    "# Add the results to the df\n",
    "add_to_df(y_train, y_train_prediction, y_test, y_test_prediction, \"Logistic Regression\", \"Default parameters\")"
   ]
  },
  {
   "cell_type": "markdown",
   "metadata": {},
   "source": [
    "#### 3.3.2: Model tuning"
   ]
  },
  {
   "cell_type": "markdown",
   "metadata": {},
   "source": [
    "In the case of Logistic Regression, the most important parameter to tune is the `C` parameter, which is the inverse of the regularization strength. The smaller the value of `C`, the stronger the regularization."
   ]
  },
  {
   "cell_type": "code",
   "execution_count": 22,
   "metadata": {},
   "outputs": [
    {
     "name": "stdout",
     "output_type": "stream",
     "text": [
      "Train Accuracy: 0.96765\n",
      "Test Accuracy: 0.8984\n"
     ]
    }
   ],
   "source": [
    "# Find the best C using GridSearchCV\n",
    "param_grid = {\n",
    "    'C': np.logspace(-4, 4, 20)\n",
    "}\n",
    "\n",
    "grid_search = GridSearchCV(lr, param_grid, cv=5, scoring='accuracy')\n",
    "grid_search.fit(X_train_vect, y_train)\n",
    "\n",
    "# Get the best estimator\n",
    "best_lr = grid_search.best_estimator_\n",
    "\n",
    "# Train the model with the best parameters\n",
    "best_lr.fit(X_train_vect, y_train)\n",
    "\n",
    "# Predict the training and test sets\n",
    "y_train_prediction = best_lr.predict(X_train_vect)\n",
    "y_test_prediction = best_lr.predict(X_test_vect)\n",
    "\n",
    "# Evaluate the performance\n",
    "train_accuracy = accuracy_score(y_train, y_train_prediction)\n",
    "test_accuracy = accuracy_score(y_test, y_test_prediction)\n",
    "\n",
    "print(f\"Train Accuracy: {train_accuracy}\")\n",
    "print(f\"Test Accuracy: {test_accuracy}\")"
   ]
  },
  {
   "cell_type": "code",
   "execution_count": 23,
   "metadata": {},
   "outputs": [
    {
     "name": "stdout",
     "output_type": "stream",
     "text": [
      "Best parameters found by GridSearchCV:\n",
      "{'C': np.float64(4.281332398719396)}\n"
     ]
    }
   ],
   "source": [
    "# Print the best configuration of parameters obtained by GridSearchCV\n",
    "print(\"Best parameters found by GridSearchCV:\")\n",
    "print(grid_search.best_params_)"
   ]
  },
  {
   "cell_type": "code",
   "execution_count": 24,
   "metadata": {},
   "outputs": [
    {
     "data": {
      "text/html": [
       "<div>\n",
       "<style scoped>\n",
       "    .dataframe tbody tr th:only-of-type {\n",
       "        vertical-align: middle;\n",
       "    }\n",
       "\n",
       "    .dataframe tbody tr th {\n",
       "        vertical-align: top;\n",
       "    }\n",
       "\n",
       "    .dataframe thead th {\n",
       "        text-align: right;\n",
       "    }\n",
       "</style>\n",
       "<table border=\"1\" class=\"dataframe\">\n",
       "  <thead>\n",
       "    <tr style=\"text-align: right;\">\n",
       "      <th></th>\n",
       "      <th>Method</th>\n",
       "      <th>accuracy_train</th>\n",
       "      <th>accuracy_test</th>\n",
       "      <th>f1_train</th>\n",
       "      <th>f1_test</th>\n",
       "      <th>Comments</th>\n",
       "    </tr>\n",
       "  </thead>\n",
       "  <tbody>\n",
       "    <tr>\n",
       "      <th>0</th>\n",
       "      <td>Logistic Regression</td>\n",
       "      <td>0.96765</td>\n",
       "      <td>0.8984</td>\n",
       "      <td>0.967676</td>\n",
       "      <td>0.900353</td>\n",
       "      <td>Best parameters found by GridSearchCV</td>\n",
       "    </tr>\n",
       "  </tbody>\n",
       "</table>\n",
       "</div>"
      ],
      "text/plain": [
       "                Method  accuracy_train  accuracy_test  f1_train   f1_test  \\\n",
       "0  Logistic Regression         0.96765         0.8984  0.967676  0.900353   \n",
       "\n",
       "                                Comments  \n",
       "0  Best parameters found by GridSearchCV  "
      ]
     },
     "execution_count": 24,
     "metadata": {},
     "output_type": "execute_result"
    }
   ],
   "source": [
    "# Add the results to the df\n",
    "add_to_df(y_train, y_train_prediction, y_test, y_test_prediction, \"Logistic Regression\", \"Best parameters found by GridSearchCV\")"
   ]
  },
  {
   "cell_type": "code",
   "execution_count": 25,
   "metadata": {},
   "outputs": [
    {
     "data": {
      "image/png": "[encoded data removed]",
      "text/plain": [
       "<Figure size 1000x600 with 1 Axes>"
      ]
     },
     "metadata": {},
     "output_type": "display_data"
    }
   ],
   "source": [
    "# Plot comparing the evolution of the accuracy for increasing values of C\n",
    "Cs = np.logspace(-4, 4, 20)\n",
    "\n",
    "train_accuracies = []\n",
    "test_accuracies = []\n",
    "\n",
    "for C in Cs:\n",
    "    lr = LogisticRegression(C=C, max_iter=1000)\n",
    "    lr.fit(X_train_vect, y_train)\n",
    "    y_train_prediction = lr.predict(X_train_vect)\n",
    "    y_test_prediction = lr.predict(X_test_vect)\n",
    "    train_accuracy = accuracy_score(y_train, y_train_prediction)\n",
    "    test_accuracy = accuracy_score(y_test, y_test_prediction)\n",
    "    train_accuracies.append(train_accuracy)\n",
    "    test_accuracies.append(test_accuracy)\n",
    "\n",
    "plt.figure(figsize=(10, 6))\n",
    "plt.plot(Cs, train_accuracies, marker='o', label='Train')\n",
    "plt.plot(Cs, test_accuracies, marker='o', label='Test')\n",
    "plt.xlabel('C')\n",
    "plt.ylabel('Accuracy')\n",
    "plt.title('Accuracy vs C')\n",
    "plt.legend()\n",
    "\n",
    "plt.xscale('log')\n",
    "plt.show()"
   ]
  },
  {
   "cell_type": "markdown",
   "metadata": {},
   "source": [
    "In this plot we can observe the following insights:\n",
    "\n",
    "1. <u>Low C</u> ($C = 10^{-4}$ to $10^{-2}$): \n",
    "    * The training accuracy is very low, indicating **underfitting**. The model is overly simplified and cannot caputre the complexity of the data.\n",
    "    * Test accuracy also low in this region, showing that it doesn't generalize well.\n",
    "\n",
    "2. <u>Moderate C</u> ($C = 10^{-1}$ to $C \\approx 4.28$):\n",
    "    * Both training and test accuracies increase as C grows, suggesting the model is better at capturing the data patterns without overfitting.\n",
    "    * Around C = 4.28, the test accuracy reaches its peak, and the training accuracy is close to the test accuracy, indicating **good generalization**.\n",
    "\n",
    "3. <u>High C</u> ( $C \\gt 4.28$):\n",
    "    * The training accuracy approaches 100%, indicating **overfitting** (the model fits the training data too closely).\n",
    "    * The test accuracy plateaus or slightly declines, showing the model's inability to generalize well to unseen data.\n"
   ]
  },
  {
   "cell_type": "markdown",
   "metadata": {},
   "source": [
    "### 3.4 Neural Networks"
   ]
  },
  {
   "cell_type": "code",
   "execution_count": 7,
   "metadata": {},
   "outputs": [],
   "source": [
    "try:\n",
    "    import torch\n",
    "except ImportError:\n",
    "    %pip install torch\n"
   ]
  },
  {
   "cell_type": "markdown",
   "metadata": {},
   "source": [
    "#### 3.4.1 Model Creation"
   ]
  },
  {
   "cell_type": "code",
   "execution_count": 36,
   "metadata": {},
   "outputs": [],
   "source": [
    "import torch\n",
    "import torch.nn as nn\n",
    "import torch.optim as optim\n",
    "from sklearn.model_selection import train_test_split\n",
    "from sklearn.feature_extraction.text import TfidfVectorizer\n",
    "from sklearn.metrics import accuracy_score, f1_score\n",
    "\n",
    "# Preparar datos\n",
    "vectorizer = TfidfVectorizer(stop_words='english')\n",
    "X_train_vect = vectorizer.fit_transform(X_train).toarray()  # Convertir a array para PyTorch\n",
    "X_test_vect = vectorizer.transform(X_test).toarray()\n",
    "\n",
    "y_train_torch = torch.tensor((y_train == 'positive').astype(int).values, dtype=torch.float32)\n",
    "y_test_torch = torch.tensor((y_test == 'positive').astype(int).values, dtype=torch.float32)\n",
    "\n",
    "X_train_torch = torch.tensor(X_train_vect, dtype=torch.float32)\n",
    "X_test_torch = torch.tensor(X_test_vect, dtype=torch.float32)\n",
    "\n",
    "# Definir el modelo\n",
    "class SentimentClassifier(nn.Module):\n",
    "    def __init__(self, input_dim):\n",
    "        super(SentimentClassifier, self).__init__()\n",
    "        self.fc1 = nn.Linear(input_dim, 128)\n",
    "        self.fc2 = nn.Linear(128, 64)\n",
    "        self.fc3 = nn.Linear(64, 1)\n",
    "        self.relu = nn.ReLU()\n",
    "        self.sigmoid = nn.Sigmoid()\n",
    "        \n",
    "    def forward(self, x):\n",
    "        x = self.relu(self.fc1(x))\n",
    "        x = self.relu(self.fc2(x))\n",
    "        x = self.sigmoid(self.fc3(x))\n",
    "        return x\n",
    "\n",
    "# Instanciar el modelo\n",
    "input_dim = X_train_torch.shape[1]\n",
    "model = SentimentClassifier(input_dim)\n",
    "\n",
    "# Definir pérdida y optimizador\n",
    "criterion = nn.BCELoss()  # Binary Cross Entropy para clasificación binaria\n",
    "optimizer = optim.Adam(model.parameters(), lr=0.00001)"
   ]
  },
  {
   "cell_type": "markdown",
   "metadata": {},
   "source": [
    "#### 3.4.2 Model Tuning"
   ]
  },
  {
   "cell_type": "code",
   "execution_count": 37,
   "metadata": {},
   "outputs": [
    {
     "name": "stdout",
     "output_type": "stream",
     "text": [
      "Epoch 1/25, Loss: 0.6875311136245728, Train Accuracy: 0.4990, Train F1 Score: 0.6658, Test Accuracy: 0.5039, Test F1 Score: 0.6701\n",
      "Epoch 2/25, Loss: 0.6753928661346436, Train Accuracy: 0.5009, Train F1 Score: 0.6666, Test Accuracy: 0.5050, Test F1 Score: 0.6706\n",
      "Epoch 3/25, Loss: 0.641383945941925, Train Accuracy: 0.7003, Train F1 Score: 0.7678, Test Accuracy: 0.6894, Test F1 Score: 0.7633\n",
      "Epoch 4/25, Loss: 0.6365843415260315, Train Accuracy: 0.8040, Train F1 Score: 0.8332, Test Accuracy: 0.7804, Test F1 Score: 0.8179\n",
      "Epoch 5/25, Loss: 0.5949262380599976, Train Accuracy: 0.8518, Train F1 Score: 0.8673, Test Accuracy: 0.8224, Test F1 Score: 0.8455\n",
      "Epoch 6/25, Loss: 0.5711808204650879, Train Accuracy: 0.8748, Train F1 Score: 0.8848, Test Accuracy: 0.8462, Test F1 Score: 0.8623\n",
      "Epoch 7/25, Loss: 0.5060372948646545, Train Accuracy: 0.8915, Train F1 Score: 0.8980, Test Accuracy: 0.8619, Test F1 Score: 0.8734\n",
      "Epoch 8/25, Loss: 0.4354093074798584, Train Accuracy: 0.9031, Train F1 Score: 0.9073, Test Accuracy: 0.8721, Test F1 Score: 0.8807\n",
      "Epoch 9/25, Loss: 0.4309319257736206, Train Accuracy: 0.9107, Train F1 Score: 0.9136, Test Accuracy: 0.8787, Test F1 Score: 0.8854\n",
      "Epoch 10/25, Loss: 0.4203455150127411, Train Accuracy: 0.9162, Train F1 Score: 0.9183, Test Accuracy: 0.8835, Test F1 Score: 0.8891\n",
      "Epoch 11/25, Loss: 0.3205859661102295, Train Accuracy: 0.9210, Train F1 Score: 0.9224, Test Accuracy: 0.8868, Test F1 Score: 0.8913\n",
      "Epoch 12/25, Loss: 0.2912914454936981, Train Accuracy: 0.9252, Train F1 Score: 0.9264, Test Accuracy: 0.8891, Test F1 Score: 0.8931\n",
      "Epoch 13/25, Loss: 0.3104928433895111, Train Accuracy: 0.9294, Train F1 Score: 0.9301, Test Accuracy: 0.8917, Test F1 Score: 0.8949\n",
      "Epoch 14/25, Loss: 0.2847268581390381, Train Accuracy: 0.9333, Train F1 Score: 0.9338, Test Accuracy: 0.8935, Test F1 Score: 0.8964\n",
      "Epoch 15/25, Loss: 0.23295696079730988, Train Accuracy: 0.9365, Train F1 Score: 0.9369, Test Accuracy: 0.8955, Test F1 Score: 0.8985\n",
      "Epoch 16/25, Loss: 0.18071097135543823, Train Accuracy: 0.9393, Train F1 Score: 0.9396, Test Accuracy: 0.8974, Test F1 Score: 0.9001\n",
      "Epoch 17/25, Loss: 0.21713736653327942, Train Accuracy: 0.9428, Train F1 Score: 0.9431, Test Accuracy: 0.9001, Test F1 Score: 0.9025\n",
      "Epoch 18/25, Loss: 0.25367942452430725, Train Accuracy: 0.9454, Train F1 Score: 0.9455, Test Accuracy: 0.9007, Test F1 Score: 0.9026\n",
      "Epoch 19/25, Loss: 0.1992909014225006, Train Accuracy: 0.9475, Train F1 Score: 0.9476, Test Accuracy: 0.9014, Test F1 Score: 0.9034\n",
      "Epoch 20/25, Loss: 0.14193610846996307, Train Accuracy: 0.9501, Train F1 Score: 0.9501, Test Accuracy: 0.9022, Test F1 Score: 0.9038\n",
      "Epoch 21/25, Loss: 0.1460171639919281, Train Accuracy: 0.9525, Train F1 Score: 0.9525, Test Accuracy: 0.9031, Test F1 Score: 0.9050\n",
      "Epoch 22/25, Loss: 0.15052500367164612, Train Accuracy: 0.9544, Train F1 Score: 0.9545, Test Accuracy: 0.9034, Test F1 Score: 0.9051\n",
      "Epoch 23/25, Loss: 0.10023052990436554, Train Accuracy: 0.9563, Train F1 Score: 0.9563, Test Accuracy: 0.9026, Test F1 Score: 0.9045\n",
      "Epoch 24/25, Loss: 0.11697454750537872, Train Accuracy: 0.9587, Train F1 Score: 0.9587, Test Accuracy: 0.9031, Test F1 Score: 0.9050\n",
      "Epoch 25/25, Loss: 0.11799927800893784, Train Accuracy: 0.9612, Train F1 Score: 0.9612, Test Accuracy: 0.9044, Test F1 Score: 0.9060\n",
      "Train Accuracy: 0.9612, Train F1 Score: 0.9612, Test Accuracy: 0.9044, Test F1 Score: 0.9060\n"
     ]
    }
   ],
   "source": [
    "# Entrenar el modelo\n",
    "epochs = 25\n",
    "batch_size = 64\n",
    "for epoch in range(epochs):\n",
    "    model.train()\n",
    "    permutation = torch.randperm(X_train_torch.size(0))\n",
    "    for i in range(0, X_train_torch.size(0), batch_size):\n",
    "        indices = permutation[i:i+batch_size]\n",
    "        batch_X, batch_y = X_train_torch[indices], y_train_torch[indices]\n",
    "        \n",
    "        optimizer.zero_grad()\n",
    "        outputs = model(batch_X).squeeze()\n",
    "        loss = criterion(outputs, batch_y)\n",
    "        loss.backward()\n",
    "        optimizer.step()\n",
    "    \n",
    "    # Evaluar en cada época\n",
    "    model.eval()\n",
    "    with torch.no_grad():\n",
    "        train_predictions = model(X_train_torch).squeeze()\n",
    "        train_predictions = (train_predictions > 0.5).float()\n",
    "        train_acc = accuracy_score(y_train_torch, train_predictions)\n",
    "        train_f1 = f1_score(y_train_torch, train_predictions)\n",
    "        \n",
    "        test_predictions = model(X_test_torch).squeeze()\n",
    "        test_predictions = (test_predictions > 0.5).float()\n",
    "        test_acc = accuracy_score(y_test_torch, test_predictions)\n",
    "        test_f1 = f1_score(y_test_torch, test_predictions)\n",
    "        \n",
    "        print(f\"Epoch {epoch+1}/{epochs}, Loss: {loss.item()}, Train Accuracy: {train_acc:.4f}, Train F1 Score: {train_f1:.4f}, Test Accuracy: {test_acc:.4f}, Test F1 Score: {test_f1:.4f}\")\n",
    "\n",
    "# Evaluar con datos de prueba\n",
    "model.eval()\n",
    "with torch.no_grad():\n",
    "    train_predictions = model(X_train_torch).squeeze()\n",
    "    train_predictions = (train_predictions > 0.5).float()\n",
    "    train_acc = accuracy_score(y_train_torch, train_predictions)\n",
    "    train_f1 = f1_score(y_train_torch, train_predictions)\n",
    "    \n",
    "    test_predictions = model(X_test_torch).squeeze()\n",
    "    test_predictions = (test_predictions > 0.5).float()\n",
    "    test_acc = accuracy_score(y_test_torch, test_predictions)\n",
    "    test_f1 = f1_score(y_test_torch, test_predictions)\n",
    "    print(f\"Train Accuracy: {train_acc:.4f}, Train F1 Score: {train_f1:.4f}, Test Accuracy: {test_acc:.4f}, Test F1 Score: {test_f1:.4f}\")\n"
   ]
  },
  {
   "cell_type": "code",
   "execution_count": 39,
   "metadata": {},
   "outputs": [
    {
     "data": {
      "text/html": [
       "<div>\n",
       "<style scoped>\n",
       "    .dataframe tbody tr th:only-of-type {\n",
       "        vertical-align: middle;\n",
       "    }\n",
       "\n",
       "    .dataframe tbody tr th {\n",
       "        vertical-align: top;\n",
       "    }\n",
       "\n",
       "    .dataframe thead th {\n",
       "        text-align: right;\n",
       "    }\n",
       "</style>\n",
       "<table border=\"1\" class=\"dataframe\">\n",
       "  <thead>\n",
       "    <tr style=\"text-align: right;\">\n",
       "      <th></th>\n",
       "      <th>Method</th>\n",
       "      <th>accuracy_train</th>\n",
       "      <th>accuracy_test</th>\n",
       "      <th>f1_train</th>\n",
       "      <th>f1_test</th>\n",
       "      <th>Comments</th>\n",
       "    </tr>\n",
       "  </thead>\n",
       "  <tbody>\n",
       "    <tr>\n",
       "      <th>0</th>\n",
       "      <td>Neural Network</td>\n",
       "      <td>0.961175</td>\n",
       "      <td>0.9044</td>\n",
       "      <td>0.961176</td>\n",
       "      <td>0.906035</td>\n",
       "      <td>Best parameters found by manual tests</td>\n",
       "    </tr>\n",
       "  </tbody>\n",
       "</table>\n",
       "</div>"
      ],
      "text/plain": [
       "           Method  accuracy_train  accuracy_test  f1_train   f1_test  \\\n",
       "0  Neural Network        0.961175         0.9044  0.961176  0.906035   \n",
       "\n",
       "                                Comments  \n",
       "0  Best parameters found by manual tests  "
      ]
     },
     "execution_count": 39,
     "metadata": {},
     "output_type": "execute_result"
    }
   ],
   "source": [
    "train_predictions = ['positive' if pred == 1.0 else 'negative' for pred in train_predictions]\n",
    "test_predictions = ['positive' if pred == 1.0 else 'negative' for pred in test_predictions]\n",
    "add_to_df(y_train, train_predictions, y_test, test_predictions, \"Neural Network\", \"Best parameters found by manual tests\")"
   ]
  },
  {
   "cell_type": "code",
   "execution_count": 15,
   "metadata": {},
   "outputs": [],
   "source": [
    "def predict_sentiment(text, model, vectorizer):\n",
    "    \"\"\"\n",
    "    Realiza la predicción del sentimiento de un texto dado.\n",
    "    \n",
    "    Args:\n",
    "        text (str): Texto de entrada para predecir.\n",
    "        model (torch.nn.Module): Modelo entrenado.\n",
    "        vectorizer (TfidfVectorizer): Vectorizador entrenado para transformar el texto.\n",
    "    \n",
    "    Returns:\n",
    "        str: Predicción ('positive' o 'negative').\n",
    "    \"\"\"\n",
    "    model.eval()  # Cambiar el modelo a modo de evaluación\n",
    "    with torch.no_grad():\n",
    "        # Transformar el texto a características utilizando el vectorizador\n",
    "        text_vectorized = vectorizer.transform([text]).toarray()\n",
    "        text_tensor = torch.tensor(text_vectorized, dtype=torch.float32)\n",
    "        \n",
    "        # Realizar la predicción\n",
    "        output = model(text_tensor).item()\n",
    "        prediction = 'positive' if output > 0.5 else 'negative'\n",
    "        return prediction"
   ]
  },
  {
   "cell_type": "markdown",
   "metadata": {},
   "source": [
    "## Model testing"
   ]
  },
  {
   "cell_type": "code",
   "execution_count": null,
   "metadata": {},
   "outputs": [
    {
     "name": "stdout",
     "output_type": "stream",
     "text": [
      "positive\n"
     ]
    }
   ],
   "source": [
    "testing = vectorizer.transform([\"It's really not bad at all. I enjoyed it a lot!\"])\n",
    "print(best_lr.predict(testing))\n",
    "print(predict_sentiment(\"It has its good parts but overall I did not like it at all\", model, vectorizer))"
   ]
  },
  {
   "cell_type": "markdown",
   "metadata": {},
   "source": [
    "## Model comparison"
   ]
  },
  {
   "cell_type": "markdown",
   "metadata": {},
   "source": [
    "Print the table with the performance of the models in order to visually see the differences between them."
   ]
  },
  {
   "cell_type": "code",
   "execution_count": 40,
   "metadata": {},
   "outputs": [
    {
     "data": {
      "text/html": [
       "<div>\n",
       "<style scoped>\n",
       "    .dataframe tbody tr th:only-of-type {\n",
       "        vertical-align: middle;\n",
       "    }\n",
       "\n",
       "    .dataframe tbody tr th {\n",
       "        vertical-align: top;\n",
       "    }\n",
       "\n",
       "    .dataframe thead th {\n",
       "        text-align: right;\n",
       "    }\n",
       "</style>\n",
       "<table border=\"1\" class=\"dataframe\">\n",
       "  <thead>\n",
       "    <tr style=\"text-align: right;\">\n",
       "      <th></th>\n",
       "      <th>Method</th>\n",
       "      <th>accuracy_train</th>\n",
       "      <th>accuracy_test</th>\n",
       "      <th>f1_train</th>\n",
       "      <th>f1_test</th>\n",
       "      <th>Comments</th>\n",
       "    </tr>\n",
       "  </thead>\n",
       "  <tbody>\n",
       "    <tr>\n",
       "      <th>0</th>\n",
       "      <td>Decision Tree</td>\n",
       "      <td>1.000000</td>\n",
       "      <td>0.7265</td>\n",
       "      <td>1.000000</td>\n",
       "      <td>0.726363</td>\n",
       "      <td>Default parameters</td>\n",
       "    </tr>\n",
       "    <tr>\n",
       "      <th>1</th>\n",
       "      <td>Neural Network</td>\n",
       "      <td>0.961175</td>\n",
       "      <td>0.9044</td>\n",
       "      <td>0.961176</td>\n",
       "      <td>0.906035</td>\n",
       "      <td>Best parameters found by manual tests</td>\n",
       "    </tr>\n",
       "  </tbody>\n",
       "</table>\n",
       "</div>"
      ],
      "text/plain": [
       "           Method  accuracy_train  accuracy_test  f1_train   f1_test  \\\n",
       "0   Decision Tree        1.000000         0.7265  1.000000  0.726363   \n",
       "1  Neural Network        0.961175         0.9044  0.961176  0.906035   \n",
       "\n",
       "                                Comments  \n",
       "0                     Default parameters  \n",
       "1  Best parameters found by manual tests  "
      ]
     },
     "execution_count": 40,
     "metadata": {},
     "output_type": "execute_result"
    }
   ],
   "source": [
    "# Print the dataframe with the results\n",
    "df"
   ]
  },
  {
   "cell_type": "code",
   "execution_count": null,
   "metadata": {},
   "outputs": [],
   "source": []
  }
 ],
 "metadata": {
  "kernelspec": {
   "display_name": "Python 3",
   "language": "python",
   "name": "python3"
  },
  "language_info": {
   "codemirror_mode": {
    "name": "ipython",
    "version": 3
   },
   "file_extension": ".py",
   "mimetype": "text/x-python",
   "name": "python",
   "nbconvert_exporter": "python",
   "pygments_lexer": "ipython3",
   "version": "3.9.6"
  }
 },
 "nbformat": 4,
 "nbformat_minor": 2
}
