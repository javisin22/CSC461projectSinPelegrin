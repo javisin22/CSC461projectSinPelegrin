{
 "cells": [
  {
   "cell_type": "markdown",
   "metadata": {},
   "source": [
    "# **CSC461: Final Project**\n",
    "## <u>Team Members:</u> *Javier Sin & Nicolás Pelegrín*\n",
    "---"
   ]
  },
  {
   "cell_type": "markdown",
   "metadata": {},
   "source": [
    "## 0. Data import and visualization"
   ]
  },
  {
   "cell_type": "code",
   "execution_count": 29,
   "metadata": {},
   "outputs": [],
   "source": [
    "import numpy as np \n",
    "import pandas as pd \n",
    "import matplotlib.pyplot as plt\n",
    "import seaborn as sns\n",
    "from sklearn.model_selection import GridSearchCV\n",
    "sns.set_style('darkgrid')"
   ]
  },
  {
   "cell_type": "markdown",
   "metadata": {},
   "source": [
    "Dataset including 50k IMDB reviews for sentiment analysis. There's two columns: the first one is the reviews themselves and the second one is the sentiment of the review ('negative' || 'positive')."
   ]
  },
  {
   "cell_type": "code",
   "execution_count": 18,
   "metadata": {},
   "outputs": [
    {
     "data": {
      "text/html": [
       "<div>\n",
       "<style scoped>\n",
       "    .dataframe tbody tr th:only-of-type {\n",
       "        vertical-align: middle;\n",
       "    }\n",
       "\n",
       "    .dataframe tbody tr th {\n",
       "        vertical-align: top;\n",
       "    }\n",
       "\n",
       "    .dataframe thead th {\n",
       "        text-align: right;\n",
       "    }\n",
       "</style>\n",
       "<table border=\"1\" class=\"dataframe\">\n",
       "  <thead>\n",
       "    <tr style=\"text-align: right;\">\n",
       "      <th></th>\n",
       "      <th>review</th>\n",
       "      <th>sentiment</th>\n",
       "    </tr>\n",
       "  </thead>\n",
       "  <tbody>\n",
       "    <tr>\n",
       "      <th>0</th>\n",
       "      <td>One of the other reviewers has mentioned that ...</td>\n",
       "      <td>positive</td>\n",
       "    </tr>\n",
       "    <tr>\n",
       "      <th>1</th>\n",
       "      <td>A wonderful little production. &lt;br /&gt;&lt;br /&gt;The...</td>\n",
       "      <td>positive</td>\n",
       "    </tr>\n",
       "    <tr>\n",
       "      <th>2</th>\n",
       "      <td>I thought this was a wonderful way to spend ti...</td>\n",
       "      <td>positive</td>\n",
       "    </tr>\n",
       "    <tr>\n",
       "      <th>3</th>\n",
       "      <td>Basically there's a family where a little boy ...</td>\n",
       "      <td>negative</td>\n",
       "    </tr>\n",
       "    <tr>\n",
       "      <th>4</th>\n",
       "      <td>Petter Mattei's \"Love in the Time of Money\" is...</td>\n",
       "      <td>positive</td>\n",
       "    </tr>\n",
       "    <tr>\n",
       "      <th>...</th>\n",
       "      <td>...</td>\n",
       "      <td>...</td>\n",
       "    </tr>\n",
       "    <tr>\n",
       "      <th>49995</th>\n",
       "      <td>I thought this movie did a down right good job...</td>\n",
       "      <td>positive</td>\n",
       "    </tr>\n",
       "    <tr>\n",
       "      <th>49996</th>\n",
       "      <td>Bad plot, bad dialogue, bad acting, idiotic di...</td>\n",
       "      <td>negative</td>\n",
       "    </tr>\n",
       "    <tr>\n",
       "      <th>49997</th>\n",
       "      <td>I am a Catholic taught in parochial elementary...</td>\n",
       "      <td>negative</td>\n",
       "    </tr>\n",
       "    <tr>\n",
       "      <th>49998</th>\n",
       "      <td>I'm going to have to disagree with the previou...</td>\n",
       "      <td>negative</td>\n",
       "    </tr>\n",
       "    <tr>\n",
       "      <th>49999</th>\n",
       "      <td>No one expects the Star Trek movies to be high...</td>\n",
       "      <td>negative</td>\n",
       "    </tr>\n",
       "  </tbody>\n",
       "</table>\n",
       "<p>50000 rows × 2 columns</p>\n",
       "</div>"
      ],
      "text/plain": [
       "                                                  review sentiment\n",
       "0      One of the other reviewers has mentioned that ...  positive\n",
       "1      A wonderful little production. <br /><br />The...  positive\n",
       "2      I thought this was a wonderful way to spend ti...  positive\n",
       "3      Basically there's a family where a little boy ...  negative\n",
       "4      Petter Mattei's \"Love in the Time of Money\" is...  positive\n",
       "...                                                  ...       ...\n",
       "49995  I thought this movie did a down right good job...  positive\n",
       "49996  Bad plot, bad dialogue, bad acting, idiotic di...  negative\n",
       "49997  I am a Catholic taught in parochial elementary...  negative\n",
       "49998  I'm going to have to disagree with the previou...  negative\n",
       "49999  No one expects the Star Trek movies to be high...  negative\n",
       "\n",
       "[50000 rows x 2 columns]"
      ]
     },
     "execution_count": 18,
     "metadata": {},
     "output_type": "execute_result"
    }
   ],
   "source": [
    "df_review = pd.read_csv(\"IMDB Dataset.csv\")\n",
    "df_review"
   ]
  },
  {
   "cell_type": "markdown",
   "metadata": {},
   "source": [
    "## 1. Metrics"
   ]
  },
  {
   "cell_type": "markdown",
   "metadata": {},
   "source": [
    "Now we'll cite the [metrics](https://scikit-learn.org/stable/modules/model_evaluation.html#classification-metrics) we'll be using during the project:\n",
    "* [Accuracy](https://scikit-learn.org/stable/modules/generated/sklearn.metrics.accuracy_score.html#sklearn.metrics.accuracy_score)\n",
    "* [F1 Score](https://scikit-learn.org/stable/modules/generated/sklearn.metrics.f1_score.html#sklearn.metrics.f1_score)\n"
   ]
  },
  {
   "cell_type": "markdown",
   "metadata": {},
   "source": [
    "* **Accuracy**: should be used when the classes are relatively balanced. If the dataset is imbalanced, accuracy can be misleading because the model may simply predict the majority class more often.\n",
    "* **F1 score**: is the weighted average of precision and recall. It takes both false positives and false negatives into account. It is a better measure than accuracy for imbalanced datasets (not the case).\n",
    "* **ROC-AUC**: this is a good metric for binary classification problems such us this one. It plots the true positive rate against the false positive rate. It is a good metric to use when the classes are imbalanced.\n",
    "\n",
    "In this case, as we're going to use balanced datasets, we'll be using <u>accuracy</u> as our main metric. We'll also be using the <u>F1 score</u> to have a better understanding of the model's performance."
   ]
  },
  {
   "cell_type": "markdown",
   "metadata": {},
   "source": [
    "We're also going to define a **Panda's Dataframe** so that we can store the results obtained for each model in order to compare them at the end of this notebook."
   ]
  },
  {
   "cell_type": "code",
   "execution_count": 19,
   "metadata": {},
   "outputs": [],
   "source": [
    "from sklearn.metrics import accuracy_score, precision_score, recall_score, f1_score, precision_recall_curve, roc_auc_score, confusion_matrix\n",
    "\n",
    "df = pd.DataFrame() # Global variable with the table storing the results of the models\n",
    "\n",
    "def add_to_df(y_train, y_train_prediction, y_test, y_test_prediction, method, comments):\n",
    "    # Modifying a global variable inside a function must be done explicitly\n",
    "    global df\n",
    "\n",
    "    df_aux = pd.DataFrame(\n",
    "        {\n",
    "          \"Method\"    : [method],\n",
    "          # \"R2_train\"  : [r2_score(y_train, y_train_prediction)],\n",
    "          # \"R2_test\"   : [r2_score(y_test, y_test_prediction)],\n",
    "          \"accuracy_train\" : [accuracy_score(y_train, y_train_prediction)],\n",
    "          \"accuracy_test\" : [accuracy_score(y_test, y_test_prediction)],\n",
    "          # \"precision_train\" : [precision_score(y_train, y_train_prediction)],\n",
    "          # \"precision_test\" : [precision_score(y_test, y_test_prediction)],\n",
    "          # \"recall_train\" : [recall_score(y_train, y_train_prediction)],\n",
    "          # \"recall_test\" : [recall_score(y_test, y_test_prediction)],\n",
    "          \"f1_train\" : [f1_score(y_train, y_train_prediction, pos_label='positive')],\n",
    "          \"f1_test\" : [f1_score(y_test, y_test_prediction, pos_label='positive')],\n",
    "          # \"precision_recall_curve_train\" : [precision_recall_curve(y_train, y_train_prediction)],\n",
    "          # \"precision_recall_curve_test\" : [precision_recall_curve(y_test, y_test_prediction)],\n",
    "          # \"roc_auc_train\" : [roc_auc_score(y_train, y_train_prediction)],\n",
    "          # \"roc_auc_test\" : [roc_auc_score(y_test, y_test_prediction)],\n",
    "          # \"confusion_matrix_train\" : [confusion_matrix(y_train, y_train_prediction)],\n",
    "          # \"confusion_matrix_test\" : [confusion_matrix(y_test, y_test_prediction)],\n",
    "          # \"RMSE_train\": [mean_squared_error(y_train, y_train_prediction, squared = False)],\n",
    "          # \"RMSE_test\" : [mean_squared_error(y_test, y_test_prediction, squared = False)],\n",
    "          \"Comments\": [comments]\n",
    "        }\n",
    "    )\n",
    "\n",
    "    df = pd.concat([df, df_aux], ignore_index=True)\n",
    "    return df_aux"
   ]
  },
  {
   "cell_type": "markdown",
   "metadata": {},
   "source": [
    "---\n",
    "## 2. Preparing the data"
   ]
  },
  {
   "cell_type": "markdown",
   "metadata": {},
   "source": [
    "Now we'll prepare the data for the models. First we'll split the data into training and testing sets. Then we'll use the `TfidfVectorizer` to convert the text data into a matrix of TF-IDF features, which will be used as input for the models."
   ]
  },
  {
   "cell_type": "code",
   "execution_count": 20,
   "metadata": {},
   "outputs": [
    {
     "data": {
      "text/plain": [
       "sentiment\n",
       "negative    20039\n",
       "positive    19961\n",
       "Name: count, dtype: int64"
      ]
     },
     "execution_count": 20,
     "metadata": {},
     "output_type": "execute_result"
    }
   ],
   "source": [
    "from sklearn.model_selection import train_test_split\n",
    "\n",
    "X = df_review['review']\n",
    "y = df_review['sentiment']\n",
    "\n",
    "X_train, X_test, y_train, y_test = train_test_split(X, y, test_size=0.2, random_state=42)\n",
    "\n",
    "y_train.value_counts() # Checking the balance of the classes"
   ]
  },
  {
   "cell_type": "code",
   "execution_count": 41,
   "metadata": {},
   "outputs": [],
   "source": [
    "from sklearn.feature_extraction.text import TfidfVectorizer\n",
    "\n",
    "vectorizer = TfidfVectorizer(stop_words='english')\n",
    "X_train_vect = vectorizer.fit_transform(X_train)\n",
    "X_test_vect = vectorizer.transform(X_test)"
   ]
  },
  {
   "cell_type": "code",
   "execution_count": 6,
   "metadata": {},
   "outputs": [
    {
     "name": "stdout",
     "output_type": "stream",
     "text": [
      "(40000,)\n",
      "(40000, 92692)\n"
     ]
    }
   ],
   "source": [
    "print(X_train.shape)\n",
    "print(X_train_vect.shape)"
   ]
  },
  {
   "cell_type": "markdown",
   "metadata": {},
   "source": [
    "## 3. Models to be used"
   ]
  },
  {
   "cell_type": "markdown",
   "metadata": {},
   "source": [
    "Our goal is to create and tune all the models in order to compare which one is the best for this particular dataset. Instead of just creating the default models and using the only one with best accuracy, we're going to tune them all and compare the results."
   ]
  },
  {
   "cell_type": "markdown",
   "metadata": {},
   "source": [
    "### 3.1: Decision Tree"
   ]
  },
  {
   "cell_type": "markdown",
   "metadata": {},
   "source": [
    "The first model we're going to test is the [Decision Tree](https://scikit-learn.org/stable/modules/generated/sklearn.tree.DecisionTreeClassifier.html#sklearn.tree.DecisionTreeClassifier)."
   ]
  },
  {
   "cell_type": "markdown",
   "metadata": {},
   "source": [
    "#### 3.1.1: Model creation"
   ]
  },
  {
   "cell_type": "code",
   "execution_count": 22,
   "metadata": {},
   "outputs": [],
   "source": [
    "# Import the Decision Tree Classifier\n",
    "from sklearn.tree import DecisionTreeClassifier"
   ]
  },
  {
   "cell_type": "code",
   "execution_count": null,
   "metadata": {},
   "outputs": [],
   "source": [
    "# Create the Decision Tree Classifier\n",
    "dt = DecisionTreeClassifier(random_state=42)\n",
    "\n",
    "# Train the model\n",
    "dt.fit(X_train_vect, y_train)\n",
    "\n",
    "# Predict the training set\n",
    "y_train_prediction = dt.predict(X_train_vect)\n",
    "\n",
    "# Predict the test set\n",
    "y_test_prediction = dt.predict(X_test_vect)\n"
   ]
  },
  {
   "cell_type": "code",
   "execution_count": 14,
   "metadata": {},
   "outputs": [
    {
     "data": {
      "text/html": [
       "<div>\n",
       "<style scoped>\n",
       "    .dataframe tbody tr th:only-of-type {\n",
       "        vertical-align: middle;\n",
       "    }\n",
       "\n",
       "    .dataframe tbody tr th {\n",
       "        vertical-align: top;\n",
       "    }\n",
       "\n",
       "    .dataframe thead th {\n",
       "        text-align: right;\n",
       "    }\n",
       "</style>\n",
       "<table border=\"1\" class=\"dataframe\">\n",
       "  <thead>\n",
       "    <tr style=\"text-align: right;\">\n",
       "      <th></th>\n",
       "      <th>Method</th>\n",
       "      <th>accuracy_train</th>\n",
       "      <th>accuracy_test</th>\n",
       "      <th>f1_train</th>\n",
       "      <th>f1_test</th>\n",
       "      <th>Comments</th>\n",
       "    </tr>\n",
       "  </thead>\n",
       "  <tbody>\n",
       "    <tr>\n",
       "      <th>0</th>\n",
       "      <td>Decision Tree</td>\n",
       "      <td>1.0</td>\n",
       "      <td>0.7265</td>\n",
       "      <td>1.0</td>\n",
       "      <td>0.726363</td>\n",
       "      <td>Default parameters</td>\n",
       "    </tr>\n",
       "  </tbody>\n",
       "</table>\n",
       "</div>"
      ],
      "text/plain": [
       "          Method  accuracy_train  accuracy_test  f1_train   f1_test  \\\n",
       "0  Decision Tree             1.0         0.7265       1.0  0.726363   \n",
       "\n",
       "             Comments  \n",
       "0  Default parameters  "
      ]
     },
     "execution_count": 14,
     "metadata": {},
     "output_type": "execute_result"
    }
   ],
   "source": [
    "# Add the results to the df\n",
    "add_to_df(y_train, y_train_prediction, y_test, y_test_prediction, \"Decision Tree\", \"Default parameters\")"
   ]
  },
  {
   "cell_type": "markdown",
   "metadata": {},
   "source": [
    "As you can see, the current model with the default parameters suffers from overfitting. This can be deduced from the accuracy and f1 scores of 1.0 for the train sets. This means that the model is memorizing the training data patters and not generalizing well to the test data. We can solve this by tuning the hyperparameters of the model."
   ]
  },
  {
   "cell_type": "markdown",
   "metadata": {},
   "source": [
    "#### 3.1.2: Model tuning"
   ]
  },
  {
   "cell_type": "markdown",
   "metadata": {},
   "source": [
    "Now we'll tune the model in order to avoid overfitting so that we can obtain better results."
   ]
  },
  {
   "cell_type": "code",
   "execution_count": null,
   "metadata": {},
   "outputs": [
    {
     "name": "stdout",
     "output_type": "stream",
     "text": [
      "Train Accuracy: 0.801775\n",
      "Test Accuracy: 0.7434\n"
     ]
    }
   ],
   "source": [
    "# Define the parameter grid\n",
    "param_grid = {\n",
    "    'max_depth': [None, 10, 20, 30],\n",
    "    'min_samples_split': [2, 10, 20],\n",
    "    'min_samples_leaf': [1, 5, 10]\n",
    "}\n",
    "\n",
    "# Create the Decision Tree Classifier\n",
    "dt = DecisionTreeClassifier(random_state=42)\n",
    "\n",
    "# Use GridSearchCV to find the best parameters\n",
    "grid_search = GridSearchCV(dt, param_grid, cv=5, scoring='accuracy')\n",
    "grid_search.fit(X_train_vect, y_train)\n",
    "\n",
    "# Get the best estimator\n",
    "best_dt = grid_search.best_estimator_\n",
    "\n",
    "# Train the model with the best parameters\n",
    "best_dt.fit(X_train_vect, y_train)\n",
    "\n",
    "# Predict the training set\n",
    "y_train_prediction = best_dt.predict(X_train_vect)\n",
    "\n",
    "# Predict the test set\n",
    "y_test_prediction = best_dt.predict(X_test_vect)\n",
    "\n",
    "# Evaluate the performance\n",
    "train_accuracy = accuracy_score(y_train, y_train_prediction)\n",
    "test_accuracy = accuracy_score(y_test, y_test_prediction)\n",
    "\n",
    "print(f\"Train Accuracy: {train_accuracy}\")\n",
    "print(f\"Test Accuracy: {test_accuracy}\")"
   ]
  },
  {
   "cell_type": "code",
   "execution_count": 21,
   "metadata": {},
   "outputs": [
    {
     "name": "stdout",
     "output_type": "stream",
     "text": [
      "Best parameters found by GridSearchCV:\n",
      "{'max_depth': 20, 'min_samples_leaf': 10, 'min_samples_split': 2}\n"
     ]
    }
   ],
   "source": [
    "# Print the best configuration of parameters obtained by GridSearchCV\n",
    "print(\"Best parameters found by GridSearchCV:\")\n",
    "print(grid_search.best_params_)"
   ]
  },
  {
   "cell_type": "markdown",
   "metadata": {},
   "source": [
    "Now I'll define a range of hyperparameters, for example for `max_depth` in order to see the different results in a plot to view how the model behaves and determine if it suffers from overfitting."
   ]
  },
  {
   "cell_type": "code",
   "execution_count": 16,
   "metadata": {},
   "outputs": [
    {
     "data": {
      "image/png": "[encoded data removed]",
      "text/plain": [
       "<Figure size 1000x600 with 1 Axes>"
      ]
     },
     "metadata": {},
     "output_type": "display_data"
    }
   ],
   "source": [
    "max_depths = range(1, 21)\n",
    "\n",
    "train_accuracies = []\n",
    "test_accuracies = []\n",
    "\n",
    "for max_depth in max_depths:\n",
    "    dt = DecisionTreeClassifier(max_depth=max_depth, min_samples_leaf=10, min_samples_split=2, random_state=42)\n",
    "    dt.fit(X_train_vect, y_train)\n",
    "    y_train_prediction = dt.predict(X_train_vect)\n",
    "    y_test_prediction = dt.predict(X_test_vect)\n",
    "    train_accuracy = accuracy_score(y_train, y_train_prediction)\n",
    "    test_accuracy = accuracy_score(y_test, y_test_prediction)\n",
    "    train_accuracies.append(train_accuracy)\n",
    "    test_accuracies.append(test_accuracy)\n",
    "\n",
    "plt.figure(figsize=(10, 6))\n",
    "plt.plot(max_depths, train_accuracies, marker='o', label='Train')\n",
    "plt.plot(max_depths, test_accuracies, marker='o', label='Test')\n",
    "plt.xlabel('Max Depth')\n",
    "plt.ylabel('Accuracy')\n",
    "plt.title('Accuracy vs Max Depth')\n",
    "plt.legend()\n",
    "plt.show()"
   ]
  },
  {
   "cell_type": "markdown",
   "metadata": {},
   "source": [
    "We have decided to cap the `max_depth` at 20 as the improvement is minimal after that point. Here's a summary of a test we did increasing the `max_depth` up to 30:\n",
    "\n",
    "Max Depth: 18 - Train Acc: 0.79375 - Test Acc: 0.7437<br>\n",
    "Max Depth: 19 - Train Acc: 0.798025 - Test Acc: 0.7442<br>\n",
    "Max Depth: 20 - Train Acc: 0.801775 - Test Acc: 0.7434<br>\n",
    "Max Depth: 21 - Train Acc: 0.803725 - Test Acc: 0.7424<br>\n",
    "Max Depth: 22 - Train Acc: 0.80605 - Test Acc: 0.74<br>\n",
    "Max Depth: 23 - Train Acc: 0.80945 - Test Acc: 0.7419<br>\n",
    "Max Depth: 24 - Train Acc: 0.8131 - Test Acc: 0.7436<br>\n",
    "Max Depth: 25 - Train Acc: 0.8159 - Test Acc: 0.7441<br>\n",
    "Max Depth: 26 - Train Acc: 0.819375 - Test Acc: 0.7446<br>\n",
    "Max Depth: 27 - Train Acc: 0.82075 - Test Acc: 0.7438<br>\n",
    "Max Depth: 28 - Train Acc: 0.82405 - Test Acc: 0.7429<br>\n",
    "Max Depth: 29 - Train Acc: 0.826275 - Test Acc: 0.7436<br>\n",
    "Max Depth: 30 - Train Acc: 0.828425 - Test Acc: 0.7454<br>\n",
    "\n",
    "As you can see, the model just improves in the train set for 0.02 in terms of accuracy, and the test set remains almost the same. Due to this along with the computation time required when increasing the `max_depth`, we decided to cap it at 20. "
   ]
  },
  {
   "cell_type": "code",
   "execution_count": null,
   "metadata": {},
   "outputs": [
    {
     "data": {
      "text/html": [
       "<div>\n",
       "<style scoped>\n",
       "    .dataframe tbody tr th:only-of-type {\n",
       "        vertical-align: middle;\n",
       "    }\n",
       "\n",
       "    .dataframe tbody tr th {\n",
       "        vertical-align: top;\n",
       "    }\n",
       "\n",
       "    .dataframe thead th {\n",
       "        text-align: right;\n",
       "    }\n",
       "</style>\n",
       "<table border=\"1\" class=\"dataframe\">\n",
       "  <thead>\n",
       "    <tr style=\"text-align: right;\">\n",
       "      <th></th>\n",
       "      <th>Method</th>\n",
       "      <th>accuracy_train</th>\n",
       "      <th>accuracy_test</th>\n",
       "      <th>f1_train</th>\n",
       "      <th>f1_test</th>\n",
       "      <th>Comments</th>\n",
       "    </tr>\n",
       "  </thead>\n",
       "  <tbody>\n",
       "    <tr>\n",
       "      <th>0</th>\n",
       "      <td>Decision Tree</td>\n",
       "      <td>0.801775</td>\n",
       "      <td>0.7434</td>\n",
       "      <td>0.813457</td>\n",
       "      <td>0.759422</td>\n",
       "      <td>Best parameters</td>\n",
       "    </tr>\n",
       "  </tbody>\n",
       "</table>\n",
       "</div>"
      ],
      "text/plain": [
       "          Method  accuracy_train  accuracy_test  f1_train   f1_test  \\\n",
       "0  Decision Tree        0.801775         0.7434  0.813457  0.759422   \n",
       "\n",
       "          Comments  \n",
       "0  Best parameters  "
      ]
     },
     "execution_count": 25,
     "metadata": {},
     "output_type": "execute_result"
    }
   ],
   "source": [
    "best_dt_model = DecisionTreeClassifier(max_depth=20, min_samples_leaf=10, min_samples_split=2, random_state=42)\n",
    "best_dt_model.fit(X_train_vect, y_train)\n",
    "\n",
    "y_train_prediction = best_dt_model.predict(X_train_vect)\n",
    "y_test_prediction = best_dt_model.predict(X_test_vect)\n",
    "\n",
    "add_to_df(y_train, y_train_prediction, y_test, y_test_prediction, \"Decision Tree\", \"Best parameters found by GridSearchCV\")"
   ]
  },
  {
   "cell_type": "markdown",
   "metadata": {},
   "source": [
    "### 3.2: Naive Bayes"
   ]
  },
  {
   "cell_type": "markdown",
   "metadata": {},
   "source": [
    "The second model we're going to test is the [Naive Bayes](https://scikit-learn.org/stable/modules/generated/sklearn.naive_bayes.MultinomialNB.html#sklearn.naive_bayes.MultinomialNB)."
   ]
  },
  {
   "cell_type": "markdown",
   "metadata": {},
   "source": [
    "#### 3.2.1: Model creation"
   ]
  },
  {
   "cell_type": "code",
   "execution_count": null,
   "metadata": {},
   "outputs": [],
   "source": [
    "# Import the Naive Bayes Classifier\n",
    "from sklearn.naive_bayes import MultinomialNB"
   ]
  },
  {
   "cell_type": "code",
   "execution_count": 27,
   "metadata": {},
   "outputs": [
    {
     "data": {
      "text/html": [
       "<div>\n",
       "<style scoped>\n",
       "    .dataframe tbody tr th:only-of-type {\n",
       "        vertical-align: middle;\n",
       "    }\n",
       "\n",
       "    .dataframe tbody tr th {\n",
       "        vertical-align: top;\n",
       "    }\n",
       "\n",
       "    .dataframe thead th {\n",
       "        text-align: right;\n",
       "    }\n",
       "</style>\n",
       "<table border=\"1\" class=\"dataframe\">\n",
       "  <thead>\n",
       "    <tr style=\"text-align: right;\">\n",
       "      <th></th>\n",
       "      <th>Method</th>\n",
       "      <th>accuracy_train</th>\n",
       "      <th>accuracy_test</th>\n",
       "      <th>f1_train</th>\n",
       "      <th>f1_test</th>\n",
       "      <th>Comments</th>\n",
       "    </tr>\n",
       "  </thead>\n",
       "  <tbody>\n",
       "    <tr>\n",
       "      <th>0</th>\n",
       "      <td>Naive Bayes</td>\n",
       "      <td>0.9064</td>\n",
       "      <td>0.8652</td>\n",
       "      <td>0.904975</td>\n",
       "      <td>0.864604</td>\n",
       "      <td>Default parameters</td>\n",
       "    </tr>\n",
       "  </tbody>\n",
       "</table>\n",
       "</div>"
      ],
      "text/plain": [
       "        Method  accuracy_train  accuracy_test  f1_train   f1_test  \\\n",
       "0  Naive Bayes          0.9064         0.8652  0.904975  0.864604   \n",
       "\n",
       "             Comments  \n",
       "0  Default parameters  "
      ]
     },
     "execution_count": 27,
     "metadata": {},
     "output_type": "execute_result"
    }
   ],
   "source": [
    "# Create the Naive Bayes Classifier\n",
    "nb = MultinomialNB()\n",
    "\n",
    "# Train the model\n",
    "nb.fit(X_train_vect, y_train)\n",
    "\n",
    "# Predict the training and test sets\n",
    "y_train_prediction = nb.predict(X_train_vect)\n",
    "y_test_prediction = nb.predict(X_test_vect)\n",
    "\n",
    "# Add the results to the df\n",
    "add_to_df(y_train, y_train_prediction, y_test, y_test_prediction, \"Naive Bayes\", \"Default parameters\")"
   ]
  },
  {
   "cell_type": "markdown",
   "metadata": {},
   "source": [
    "#### 3.2.2: Model tuning"
   ]
  },
  {
   "cell_type": "code",
   "execution_count": 30,
   "metadata": {},
   "outputs": [
    {
     "name": "stdout",
     "output_type": "stream",
     "text": [
      "Train Accuracy: 0.91645\n",
      "Test Accuracy: 0.864\n"
     ]
    }
   ],
   "source": [
    "# Find the best alpha using GridSearchCV\n",
    "param_grid = {\n",
    "    'alpha': [0.1, 0.5, 1.0, 2.0]\n",
    "}\n",
    "\n",
    "grid_search = GridSearchCV(nb, param_grid, cv=5, scoring='accuracy')\n",
    "grid_search.fit(X_train_vect, y_train)\n",
    "\n",
    "# Get the best estimator\n",
    "best_nb = grid_search.best_estimator_\n",
    "\n",
    "# Train the model with the best parameters\n",
    "best_nb.fit(X_train_vect, y_train)\n",
    "\n",
    "# Predict the training and test sets\n",
    "y_train_prediction = best_nb.predict(X_train_vect)\n",
    "y_test_prediction = best_nb.predict(X_test_vect)\n",
    "\n",
    "# Evaluate the performance\n",
    "train_accuracy = accuracy_score(y_train, y_train_prediction)\n",
    "test_accuracy = accuracy_score(y_test, y_test_prediction)\n",
    "\n",
    "print(f\"Train Accuracy: {train_accuracy}\")\n",
    "print(f\"Test Accuracy: {test_accuracy}\")\n"
   ]
  },
  {
   "cell_type": "code",
   "execution_count": 31,
   "metadata": {},
   "outputs": [
    {
     "name": "stdout",
     "output_type": "stream",
     "text": [
      "Best parameters found by GridSearchCV:\n",
      "{'alpha': 0.5}\n"
     ]
    }
   ],
   "source": [
    "# Print the best configuration of parameters obtained by GridSearchCV\n",
    "print(\"Best parameters found by GridSearchCV:\")\n",
    "print(grid_search.best_params_)"
   ]
  },
  {
   "cell_type": "code",
   "execution_count": 32,
   "metadata": {},
   "outputs": [
    {
     "data": {
      "text/html": [
       "<div>\n",
       "<style scoped>\n",
       "    .dataframe tbody tr th:only-of-type {\n",
       "        vertical-align: middle;\n",
       "    }\n",
       "\n",
       "    .dataframe tbody tr th {\n",
       "        vertical-align: top;\n",
       "    }\n",
       "\n",
       "    .dataframe thead th {\n",
       "        text-align: right;\n",
       "    }\n",
       "</style>\n",
       "<table border=\"1\" class=\"dataframe\">\n",
       "  <thead>\n",
       "    <tr style=\"text-align: right;\">\n",
       "      <th></th>\n",
       "      <th>Method</th>\n",
       "      <th>accuracy_train</th>\n",
       "      <th>accuracy_test</th>\n",
       "      <th>f1_train</th>\n",
       "      <th>f1_test</th>\n",
       "      <th>Comments</th>\n",
       "    </tr>\n",
       "  </thead>\n",
       "  <tbody>\n",
       "    <tr>\n",
       "      <th>0</th>\n",
       "      <td>Naive Bayes</td>\n",
       "      <td>0.91645</td>\n",
       "      <td>0.864</td>\n",
       "      <td>0.915375</td>\n",
       "      <td>0.863837</td>\n",
       "      <td>Best parameters found by GridSearchCV</td>\n",
       "    </tr>\n",
       "  </tbody>\n",
       "</table>\n",
       "</div>"
      ],
      "text/plain": [
       "        Method  accuracy_train  accuracy_test  f1_train   f1_test  \\\n",
       "0  Naive Bayes         0.91645          0.864  0.915375  0.863837   \n",
       "\n",
       "                                Comments  \n",
       "0  Best parameters found by GridSearchCV  "
      ]
     },
     "execution_count": 32,
     "metadata": {},
     "output_type": "execute_result"
    }
   ],
   "source": [
    "# Add the results to the df\n",
    "add_to_df(y_train, y_train_prediction, y_test, y_test_prediction, \"Naive Bayes\", \"Best parameters found by GridSearchCV\")"
   ]
  },
  {
   "cell_type": "markdown",
   "metadata": {},
   "source": [
    "### 3.3: Logistic Regression"
   ]
  },
  {
   "cell_type": "markdown",
   "metadata": {},
   "source": [
    "The third model we're going to test is the [Logistic Regression](https://scikit-learn.org/stable/modules/generated/sklearn.linear_model.LogisticRegression.html#sklearn.linear_model.LogisticRegression)."
   ]
  },
  {
   "cell_type": "markdown",
   "metadata": {},
   "source": [
    "#### 3.3.1: Model creation"
   ]
  },
  {
   "cell_type": "code",
   "execution_count": 33,
   "metadata": {},
   "outputs": [],
   "source": [
    "# Import the Logistic Regression Classifier\n",
    "from sklearn.linear_model import LogisticRegression"
   ]
  },
  {
   "cell_type": "code",
   "execution_count": 34,
   "metadata": {},
   "outputs": [
    {
     "data": {
      "text/html": [
       "<div>\n",
       "<style scoped>\n",
       "    .dataframe tbody tr th:only-of-type {\n",
       "        vertical-align: middle;\n",
       "    }\n",
       "\n",
       "    .dataframe tbody tr th {\n",
       "        vertical-align: top;\n",
       "    }\n",
       "\n",
       "    .dataframe thead th {\n",
       "        text-align: right;\n",
       "    }\n",
       "</style>\n",
       "<table border=\"1\" class=\"dataframe\">\n",
       "  <thead>\n",
       "    <tr style=\"text-align: right;\">\n",
       "      <th></th>\n",
       "      <th>Method</th>\n",
       "      <th>accuracy_train</th>\n",
       "      <th>accuracy_test</th>\n",
       "      <th>f1_train</th>\n",
       "      <th>f1_test</th>\n",
       "      <th>Comments</th>\n",
       "    </tr>\n",
       "  </thead>\n",
       "  <tbody>\n",
       "    <tr>\n",
       "      <th>0</th>\n",
       "      <td>Logistic Regression</td>\n",
       "      <td>0.933475</td>\n",
       "      <td>0.8942</td>\n",
       "      <td>0.933867</td>\n",
       "      <td>0.89668</td>\n",
       "      <td>Default parameters</td>\n",
       "    </tr>\n",
       "  </tbody>\n",
       "</table>\n",
       "</div>"
      ],
      "text/plain": [
       "                Method  accuracy_train  accuracy_test  f1_train  f1_test  \\\n",
       "0  Logistic Regression        0.933475         0.8942  0.933867  0.89668   \n",
       "\n",
       "             Comments  \n",
       "0  Default parameters  "
      ]
     },
     "execution_count": 34,
     "metadata": {},
     "output_type": "execute_result"
    }
   ],
   "source": [
    "# Create the Logistic Regression Classifier\n",
    "lr = LogisticRegression(max_iter=1000)\n",
    "\n",
    "# Train the model\n",
    "lr.fit(X_train_vect, y_train)\n",
    "\n",
    "# Predict the training and test sets\n",
    "y_train_prediction = lr.predict(X_train_vect)\n",
    "y_test_prediction = lr.predict(X_test_vect)\n",
    "\n",
    "# Add the results to the df\n",
    "add_to_df(y_train, y_train_prediction, y_test, y_test_prediction, \"Logistic Regression\", \"Default parameters\")"
   ]
  },
  {
   "cell_type": "markdown",
   "metadata": {},
   "source": [
    "#### 3.3.2: Model tuning"
   ]
  },
  {
   "cell_type": "code",
   "execution_count": 36,
   "metadata": {},
   "outputs": [
    {
     "name": "stdout",
     "output_type": "stream",
     "text": [
      "Train Accuracy: 0.9482\n",
      "Test Accuracy: 0.8974\n"
     ]
    }
   ],
   "source": [
    "# Find the best C using GridSearchCV\n",
    "param_grid = {\n",
    "    'C': [0.1, 0.5, 1.0, 2.0]\n",
    "}\n",
    "\n",
    "grid_search = GridSearchCV(lr, param_grid, cv=5, scoring='accuracy')\n",
    "grid_search.fit(X_train_vect, y_train)\n",
    "\n",
    "# Get the best estimator\n",
    "best_lr = grid_search.best_estimator_\n",
    "\n",
    "# Train the model with the best parameters\n",
    "best_lr.fit(X_train_vect, y_train)\n",
    "\n",
    "# Predict the training and test sets\n",
    "y_train_prediction = best_lr.predict(X_train_vect)\n",
    "y_test_prediction = best_lr.predict(X_test_vect)\n",
    "\n",
    "# Evaluate the performance\n",
    "train_accuracy = accuracy_score(y_train, y_train_prediction)\n",
    "test_accuracy = accuracy_score(y_test, y_test_prediction)\n",
    "\n",
    "print(f\"Train Accuracy: {train_accuracy}\")\n",
    "print(f\"Test Accuracy: {test_accuracy}\")"
   ]
  },
  {
   "cell_type": "code",
   "execution_count": 38,
   "metadata": {},
   "outputs": [
    {
     "name": "stdout",
     "output_type": "stream",
     "text": [
      "Best parameters found by GridSearchCV:\n",
      "{'C': 2.0}\n"
     ]
    }
   ],
   "source": [
    "# Print the best configuration of parameters obtained by GridSearchCV\n",
    "print(\"Best parameters found by GridSearchCV:\")\n",
    "print(grid_search.best_params_)"
   ]
  },
  {
   "cell_type": "code",
   "execution_count": 39,
   "metadata": {},
   "outputs": [
    {
     "data": {
      "text/html": [
       "<div>\n",
       "<style scoped>\n",
       "    .dataframe tbody tr th:only-of-type {\n",
       "        vertical-align: middle;\n",
       "    }\n",
       "\n",
       "    .dataframe tbody tr th {\n",
       "        vertical-align: top;\n",
       "    }\n",
       "\n",
       "    .dataframe thead th {\n",
       "        text-align: right;\n",
       "    }\n",
       "</style>\n",
       "<table border=\"1\" class=\"dataframe\">\n",
       "  <thead>\n",
       "    <tr style=\"text-align: right;\">\n",
       "      <th></th>\n",
       "      <th>Method</th>\n",
       "      <th>accuracy_train</th>\n",
       "      <th>accuracy_test</th>\n",
       "      <th>f1_train</th>\n",
       "      <th>f1_test</th>\n",
       "      <th>Comments</th>\n",
       "    </tr>\n",
       "  </thead>\n",
       "  <tbody>\n",
       "    <tr>\n",
       "      <th>0</th>\n",
       "      <td>Logistic Regression</td>\n",
       "      <td>0.9482</td>\n",
       "      <td>0.8974</td>\n",
       "      <td>0.94837</td>\n",
       "      <td>0.899668</td>\n",
       "      <td>Best parameters found by GridSearchCV</td>\n",
       "    </tr>\n",
       "  </tbody>\n",
       "</table>\n",
       "</div>"
      ],
      "text/plain": [
       "                Method  accuracy_train  accuracy_test  f1_train   f1_test  \\\n",
       "0  Logistic Regression          0.9482         0.8974   0.94837  0.899668   \n",
       "\n",
       "                                Comments  \n",
       "0  Best parameters found by GridSearchCV  "
      ]
     },
     "execution_count": 39,
     "metadata": {},
     "output_type": "execute_result"
    }
   ],
   "source": [
    "# Add the results to the df\n",
    "add_to_df(y_train, y_train_prediction, y_test, y_test_prediction, \"Logistic Regression\", \"Best parameters found by GridSearchCV\")"
   ]
  },
  {
   "cell_type": "markdown",
   "metadata": {},
   "source": [
    "## Model testing"
   ]
  },
  {
   "cell_type": "code",
   "execution_count": 47,
   "metadata": {},
   "outputs": [
    {
     "name": "stdout",
     "output_type": "stream",
     "text": [
      "['positive']\n"
     ]
    }
   ],
   "source": [
    "testing = vectorizer.transform([\"It's really not bad at all. I enjoyed it a lot!\"])\n",
    "print(best_lr.predict(testing))"
   ]
  },
  {
   "cell_type": "markdown",
   "metadata": {},
   "source": [
    "## Model comparison"
   ]
  },
  {
   "cell_type": "markdown",
   "metadata": {},
   "source": [
    "Print the table with the performance of the models in order to visually see the differences between them."
   ]
  },
  {
   "cell_type": "code",
   "execution_count": 48,
   "metadata": {},
   "outputs": [
    {
     "data": {
      "text/html": [
       "<div>\n",
       "<style scoped>\n",
       "    .dataframe tbody tr th:only-of-type {\n",
       "        vertical-align: middle;\n",
       "    }\n",
       "\n",
       "    .dataframe tbody tr th {\n",
       "        vertical-align: top;\n",
       "    }\n",
       "\n",
       "    .dataframe thead th {\n",
       "        text-align: right;\n",
       "    }\n",
       "</style>\n",
       "<table border=\"1\" class=\"dataframe\">\n",
       "  <thead>\n",
       "    <tr style=\"text-align: right;\">\n",
       "      <th></th>\n",
       "      <th>Method</th>\n",
       "      <th>accuracy_train</th>\n",
       "      <th>accuracy_test</th>\n",
       "      <th>f1_train</th>\n",
       "      <th>f1_test</th>\n",
       "      <th>Comments</th>\n",
       "    </tr>\n",
       "  </thead>\n",
       "  <tbody>\n",
       "    <tr>\n",
       "      <th>0</th>\n",
       "      <td>Decision Tree</td>\n",
       "      <td>0.801775</td>\n",
       "      <td>0.7434</td>\n",
       "      <td>0.813457</td>\n",
       "      <td>0.759422</td>\n",
       "      <td>Best parameters</td>\n",
       "    </tr>\n",
       "    <tr>\n",
       "      <th>1</th>\n",
       "      <td>Naive Bayes</td>\n",
       "      <td>0.906400</td>\n",
       "      <td>0.8652</td>\n",
       "      <td>0.904975</td>\n",
       "      <td>0.864604</td>\n",
       "      <td>Default parameters</td>\n",
       "    </tr>\n",
       "    <tr>\n",
       "      <th>2</th>\n",
       "      <td>Naive Bayes</td>\n",
       "      <td>0.916450</td>\n",
       "      <td>0.8640</td>\n",
       "      <td>0.915375</td>\n",
       "      <td>0.863837</td>\n",
       "      <td>Best parameters found by GridSearchCV</td>\n",
       "    </tr>\n",
       "    <tr>\n",
       "      <th>3</th>\n",
       "      <td>Logistic Regression</td>\n",
       "      <td>0.933475</td>\n",
       "      <td>0.8942</td>\n",
       "      <td>0.933867</td>\n",
       "      <td>0.896680</td>\n",
       "      <td>Default parameters</td>\n",
       "    </tr>\n",
       "    <tr>\n",
       "      <th>4</th>\n",
       "      <td>Logistic Regression</td>\n",
       "      <td>0.948200</td>\n",
       "      <td>0.8974</td>\n",
       "      <td>0.948370</td>\n",
       "      <td>0.899668</td>\n",
       "      <td>Best parameters found by GridSearchCV</td>\n",
       "    </tr>\n",
       "  </tbody>\n",
       "</table>\n",
       "</div>"
      ],
      "text/plain": [
       "                Method  accuracy_train  accuracy_test  f1_train   f1_test  \\\n",
       "0        Decision Tree        0.801775         0.7434  0.813457  0.759422   \n",
       "1          Naive Bayes        0.906400         0.8652  0.904975  0.864604   \n",
       "2          Naive Bayes        0.916450         0.8640  0.915375  0.863837   \n",
       "3  Logistic Regression        0.933475         0.8942  0.933867  0.896680   \n",
       "4  Logistic Regression        0.948200         0.8974  0.948370  0.899668   \n",
       "\n",
       "                                Comments  \n",
       "0                        Best parameters  \n",
       "1                     Default parameters  \n",
       "2  Best parameters found by GridSearchCV  \n",
       "3                     Default parameters  \n",
       "4  Best parameters found by GridSearchCV  "
      ]
     },
     "execution_count": 48,
     "metadata": {},
     "output_type": "execute_result"
    }
   ],
   "source": [
    "# Print the dataframe with the results\n",
    "df"
   ]
  },
  {
   "cell_type": "code",
   "execution_count": null,
   "metadata": {},
   "outputs": [],
   "source": []
  }
 ],
 "metadata": {
  "kernelspec": {
   "display_name": "Python 3",
   "language": "python",
   "name": "python3"
  },
  "language_info": {
   "codemirror_mode": {
    "name": "ipython",
    "version": 3
   },
   "file_extension": ".py",
   "mimetype": "text/x-python",
   "name": "python",
   "nbconvert_exporter": "python",
   "pygments_lexer": "ipython3",
   "version": "3.11.5"
  }
 },
 "nbformat": 4,
 "nbformat_minor": 2
}
